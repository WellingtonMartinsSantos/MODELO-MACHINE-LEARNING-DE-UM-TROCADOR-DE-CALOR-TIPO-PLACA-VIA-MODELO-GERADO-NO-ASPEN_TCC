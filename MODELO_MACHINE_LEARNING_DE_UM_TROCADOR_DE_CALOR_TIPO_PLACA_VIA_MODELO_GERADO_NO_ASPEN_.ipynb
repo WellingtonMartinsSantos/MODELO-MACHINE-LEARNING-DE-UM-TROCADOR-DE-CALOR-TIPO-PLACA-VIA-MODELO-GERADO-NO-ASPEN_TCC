{
  "cells": [
    {
      "cell_type": "markdown",
      "metadata": {
        "id": "view-in-github",
        "colab_type": "text"
      },
      "source": [
        "<a href=\"https://colab.research.google.com/github/WellingtonMartinsSantos/MODELO-MACHINE-LEARNING-DE-UM-TROCADOR-DE-CALOR-TIPO-PLACA-VIA-MODELO-GERADO-NO-ASPEN_TCC/blob/main/MODELO_MACHINE_LEARNING_DE_UM_TROCADOR_DE_CALOR_TIPO_PLACA_VIA_MODELO_GERADO_NO_ASPEN_.ipynb\" target=\"_parent\"><img src=\"https://colab.research.google.com/assets/colab-badge.svg\" alt=\"Open In Colab\"/></a>"
      ]
    },
    {
      "cell_type": "code",
      "execution_count": 1,
      "metadata": {
        "id": "tkX_rsw4qtwC"
      },
      "outputs": [],
      "source": [
        "#Bibliotecas Base\n",
        "import pandas as pd \n",
        "import numpy as  np \n",
        "import seaborn as sns \n",
        "import matplotlib.pyplot as plt\n",
        "\n",
        "#Modelos de busca por melhores parâmetros de modelos\n",
        "\n",
        "from time import time#contagem de tempo para execução de tarefas\n"
      ]
    },
    {
      "cell_type": "code",
      "execution_count": 2,
      "metadata": {
        "id": "-LvZNdFps9HE",
        "colab": {
          "base_uri": "https://localhost:8080/"
        },
        "outputId": "614ac68c-038f-4a62-fd0d-78fe3dee91ef"
      },
      "outputs": [
        {
          "output_type": "stream",
          "name": "stderr",
          "text": [
            "/usr/local/lib/python3.8/dist-packages/IPython/core/interactiveshell.py:3326: DtypeWarning: Columns (1,2,3,4,5,6,7,8,9,10,11,12,13,14,15,16,17,18,19,20) have mixed types.Specify dtype option on import or set low_memory=False.\n",
            "  exec(code_obj, self.user_global_ns, self.user_ns)\n"
          ]
        }
      ],
      "source": [
        "fonte = pd.read_csv('https://raw.githubusercontent.com/WellingtonMartinsSantos/MODELO-MACHINE-LEARNING-DE-UM-TROCADOR-DE-CALOR-TIPO-PLACA-VIA-MODELO-GERADO-NO-ASPEN_TCC/main/MODELO%20MACHINE%20LEARNING%20DE%20UM%20TROCADOR%20DE%20CALOR%20TIPO%20PLACA%20VIA%20MODELO%20GERADO%20NO%20ASPEN.csv',encoding='ISO-8859-1') #Importando os dados gerados no Aspen HYSYS\n",
        "\n",
        "dados = fonte #Renomeando as informações para dados\n",
        "\n",
        "dados=dados.drop(labels=0) # Excluido a primeira linha dos dados, pois não interessa.\n",
        "\n",
        "dadosX = dados.drop(['State','1 - Etanol Out - Mass Flow','2 - Etanol Out - Mass Flow',\n",
        "                     '2º Trocador de placa - Heat Transfer Coefficient','1 - Etanol Out - Temperature',\n",
        "                       '1º Trocador de placa - Heat Transfer Coefficient',\n",
        "                       '2 - Etanol Out - Temperature',\n",
        "                       '1 - Cerveja In - Mass Heat Capacity',\n",
        "                       'Cerveja Out - Mass Heat Capacity',\n",
        "                       '1 - Etanol In - Mass Heat Capacity',\n",
        "                       '1 - Etanol Out - Mass Heat Capacity','2 - Etanol In - Mass Heat Capacity',\n",
        "                     '2 - Etanol Out - Mass Heat Capacity','2 - Cerveja Out - Mass Heat Capacity'],\n",
        "                    axis = 1) # Retirando as features target e features sem qualquer relação com o calculo.\n",
        "\n",
        "\n",
        "\n",
        "dados_y1=dados # Transformando os dados em resposta do primeiro trocador.\n",
        "dados_y2=dados # Transformando os dados em resposta do segundo trocador.\n",
        "\n",
        "# Transformando os dados target em float: 1.° e 2.° Trocador de calor.\n",
        "dados_y1['1 - Etanol Out - Mass Flow']=dados_y1['1 - Etanol Out - Mass Flow'].astype('float') \n",
        "dados_y2['2 - Etanol Out - Mass Flow']=dados_y2['2 - Etanol Out - Mass Flow'].astype('float')\n",
        "\n",
        "# Guando as informações da feature target para treino.\n",
        "dados_y1 = dados_y1['1 - Etanol Out - Mass Flow']\n",
        "dados_y2 = dados_y2['2 - Etanol Out - Mass Flow']\n",
        "\n",
        "# Transformando as variavel do Coeficiente global de transferência de calor em float de cada um dos trocadores de calor.\n",
        "dados_U= dados\n",
        "dados_U['1º Trocador de placa - Heat Transfer Coefficient']=dados_U['1º Trocador de placa - Heat Transfer Coefficient'].astype('float')\n",
        "dados_U['2º Trocador de placa - Heat Transfer Coefficient']=dados_U['2º Trocador de placa - Heat Transfer Coefficient'].astype('float')\n",
        "dados_U['1 - Etanol Out - Temperature']=dados_U['1 - Etanol Out - Temperature'].astype('float')\n",
        "dados_U['2 - Etanol Out - Temperature']=dados_U['2 - Etanol Out - Temperature'].astype('float')\n",
        "dados_U['1 - Cerveja In - Mass Heat Capacity']=dados_U['1 - Cerveja In - Mass Heat Capacity'].astype('float')\n",
        "dados_U['Cerveja Out - Mass Heat Capacity']=dados_U['Cerveja Out - Mass Heat Capacity'].astype('float')\n",
        "dados_U['1 - Etanol In - Mass Heat Capacity']=dados_U['1 - Etanol In - Mass Heat Capacity'].astype('float')\n",
        "dados_U['1 - Etanol Out - Mass Heat Capacity']=dados_U['1 - Etanol Out - Mass Heat Capacity'].astype('float')\n",
        "dados_U['2 - Etanol In - Mass Heat Capacity']=dados_U['2 - Etanol In - Mass Heat Capacity'].astype('float')\n",
        "dados_U['2 - Etanol Out - Mass Heat Capacity']=dados_U['2 - Etanol Out - Mass Heat Capacity'].astype('float')\n",
        "dados_U['2 - Cerveja Out - Mass Heat Capacity']=dados_U['2 - Cerveja Out - Mass Heat Capacity'].astype('float')\n",
        "\n",
        "\n",
        "# Selecionando as váriveis principais para analise do coeficiente global de transferência de calor. \n",
        "dados_U = dados_U[['State','1 - Cerveja In - Mass Flow','1 - Cerveja In - Temperature',\n",
        "                   '1 - Cerveja In - Pressure','1 - Etanol In - Pressure','1 - Etanol In - Temperature',\n",
        "                   '2 - Etanol In - Pressure','2 - Etanol In - Temperature',\n",
        "                   '1º Trocador de placa - Heat Transfer Coefficient',\n",
        "                   '2º Trocador de placa - Heat Transfer Coefficient',\n",
        "                   '1 - Etanol Out - Temperature',\n",
        "                   '2 - Etanol Out - Temperature',\n",
        "                   '1 - Cerveja In - Mass Heat Capacity',\n",
        "                   'Cerveja Out - Mass Heat Capacity',\n",
        "                   '1 - Etanol In - Mass Heat Capacity',\n",
        "                   '1 - Etanol Out - Mass Heat Capacity','2 - Etanol In - Mass Heat Capacity',\n",
        "                   '2 - Etanol Out - Mass Heat Capacity','2 - Cerveja Out - Mass Heat Capacity',\n",
        "                   '1 - Etanol Out - Mass Flow','2 - Etanol Out - Mass Flow']]\n",
        "\n",
        "# Transformando os dados da análise do U em float: 1.° e 2.° Trocador de calor.\n",
        "dados_U['1 - Cerveja In - Mass Flow'] = dados_U['1 - Cerveja In - Mass Flow'].astype('float')\n",
        "dados_U['1 - Etanol Out - Mass Flow'] = dados_U['1 - Etanol Out - Mass Flow'].astype('float')\n",
        "dados_U['2 - Etanol Out - Mass Flow'] = dados_U['2 - Etanol Out - Mass Flow'].astype('float')\n",
        "dados_U['1 - Cerveja In - Temperature'] = dados_U['1 - Cerveja In - Temperature'].astype('float')\n",
        "dados_U['1 - Cerveja In - Pressure'] = dados_U['1 - Cerveja In - Pressure'].astype('float')\n",
        "dados_U['1 - Etanol In - Pressure'] = dados_U['1 - Etanol In - Pressure'].astype('float')\n",
        "dados_U['1 - Etanol In - Temperature'] = dados_U['1 - Etanol In - Temperature'].astype('float')\n",
        "dados_U['2 - Etanol In - Temperature'] = dados_U['2 - Etanol In - Temperature'].astype('float')\n",
        "dados_U['2 - Etanol In - Pressure'] = dados_U['2 - Etanol In - Pressure'].astype('float')\n"
      ]
    },
    {
      "cell_type": "code",
      "execution_count": null,
      "metadata": {
        "colab": {
          "base_uri": "https://localhost:8080/"
        },
        "id": "PU482VChz9A2",
        "outputId": "2e7aa0d2-6d36-4431-e85e-d625fffecc21"
      },
      "outputs": [
        {
          "data": {
            "text/plain": [
              "(90720, 7)"
            ]
          },
          "execution_count": 60,
          "metadata": {},
          "output_type": "execute_result"
        }
      ],
      "source": [
        "# Verificando a quantidade de linha e colunas da variável dadosX:\n",
        "dadosX.shape"
      ]
    },
    {
      "cell_type": "code",
      "execution_count": null,
      "metadata": {
        "colab": {
          "base_uri": "https://localhost:8080/",
          "height": 285
        },
        "id": "0yahrWsDtTFq",
        "outputId": "349052ac-5286-48f5-f81d-75dfa3db6ba3"
      },
      "outputs": [
        {
          "data": {
            "text/html": [
              "\n",
              "  <div id=\"df-bc079be1-5094-4fba-920c-f42ac036cb11\">\n",
              "    <div class=\"colab-df-container\">\n",
              "      <div>\n",
              "<style scoped>\n",
              "    .dataframe tbody tr th:only-of-type {\n",
              "        vertical-align: middle;\n",
              "    }\n",
              "\n",
              "    .dataframe tbody tr th {\n",
              "        vertical-align: top;\n",
              "    }\n",
              "\n",
              "    .dataframe thead th {\n",
              "        text-align: right;\n",
              "    }\n",
              "</style>\n",
              "<table border=\"1\" class=\"dataframe\">\n",
              "  <thead>\n",
              "    <tr style=\"text-align: right;\">\n",
              "      <th></th>\n",
              "      <th>1 - Cerveja In - Mass Flow</th>\n",
              "      <th>1 - Cerveja In - Temperature</th>\n",
              "      <th>1 - Cerveja In - Pressure</th>\n",
              "      <th>1 - Etanol In - Pressure</th>\n",
              "      <th>1 - Etanol In - Temperature</th>\n",
              "      <th>2 - Etanol In - Temperature</th>\n",
              "      <th>2 - Etanol In - Pressure</th>\n",
              "    </tr>\n",
              "  </thead>\n",
              "  <tbody>\n",
              "    <tr>\n",
              "      <th>1</th>\n",
              "      <td>8.838</td>\n",
              "      <td>14.67</td>\n",
              "      <td>2.997</td>\n",
              "      <td>2.664</td>\n",
              "      <td>2.808</td>\n",
              "      <td>-2.816</td>\n",
              "      <td>4.401</td>\n",
              "    </tr>\n",
              "    <tr>\n",
              "      <th>2</th>\n",
              "      <td>8.838</td>\n",
              "      <td>14.67</td>\n",
              "      <td>2.997</td>\n",
              "      <td>2.664</td>\n",
              "      <td>2.808</td>\n",
              "      <td>-2.816</td>\n",
              "      <td>4.901</td>\n",
              "    </tr>\n",
              "    <tr>\n",
              "      <th>3</th>\n",
              "      <td>8.838</td>\n",
              "      <td>14.67</td>\n",
              "      <td>2.997</td>\n",
              "      <td>2.664</td>\n",
              "      <td>2.808</td>\n",
              "      <td>-2.616</td>\n",
              "      <td>4.401</td>\n",
              "    </tr>\n",
              "    <tr>\n",
              "      <th>4</th>\n",
              "      <td>8.838</td>\n",
              "      <td>14.67</td>\n",
              "      <td>2.997</td>\n",
              "      <td>2.664</td>\n",
              "      <td>2.808</td>\n",
              "      <td>-2.616</td>\n",
              "      <td>4.901</td>\n",
              "    </tr>\n",
              "    <tr>\n",
              "      <th>5</th>\n",
              "      <td>8.838</td>\n",
              "      <td>14.67</td>\n",
              "      <td>2.997</td>\n",
              "      <td>2.664</td>\n",
              "      <td>2.808</td>\n",
              "      <td>-2.416</td>\n",
              "      <td>4.401</td>\n",
              "    </tr>\n",
              "  </tbody>\n",
              "</table>\n",
              "</div>\n",
              "      <button class=\"colab-df-convert\" onclick=\"convertToInteractive('df-bc079be1-5094-4fba-920c-f42ac036cb11')\"\n",
              "              title=\"Convert this dataframe to an interactive table.\"\n",
              "              style=\"display:none;\">\n",
              "        \n",
              "  <svg xmlns=\"http://www.w3.org/2000/svg\" height=\"24px\"viewBox=\"0 0 24 24\"\n",
              "       width=\"24px\">\n",
              "    <path d=\"M0 0h24v24H0V0z\" fill=\"none\"/>\n",
              "    <path d=\"M18.56 5.44l.94 2.06.94-2.06 2.06-.94-2.06-.94-.94-2.06-.94 2.06-2.06.94zm-11 1L8.5 8.5l.94-2.06 2.06-.94-2.06-.94L8.5 2.5l-.94 2.06-2.06.94zm10 10l.94 2.06.94-2.06 2.06-.94-2.06-.94-.94-2.06-.94 2.06-2.06.94z\"/><path d=\"M17.41 7.96l-1.37-1.37c-.4-.4-.92-.59-1.43-.59-.52 0-1.04.2-1.43.59L10.3 9.45l-7.72 7.72c-.78.78-.78 2.05 0 2.83L4 21.41c.39.39.9.59 1.41.59.51 0 1.02-.2 1.41-.59l7.78-7.78 2.81-2.81c.8-.78.8-2.07 0-2.86zM5.41 20L4 18.59l7.72-7.72 1.47 1.35L5.41 20z\"/>\n",
              "  </svg>\n",
              "      </button>\n",
              "      \n",
              "  <style>\n",
              "    .colab-df-container {\n",
              "      display:flex;\n",
              "      flex-wrap:wrap;\n",
              "      gap: 12px;\n",
              "    }\n",
              "\n",
              "    .colab-df-convert {\n",
              "      background-color: #E8F0FE;\n",
              "      border: none;\n",
              "      border-radius: 50%;\n",
              "      cursor: pointer;\n",
              "      display: none;\n",
              "      fill: #1967D2;\n",
              "      height: 32px;\n",
              "      padding: 0 0 0 0;\n",
              "      width: 32px;\n",
              "    }\n",
              "\n",
              "    .colab-df-convert:hover {\n",
              "      background-color: #E2EBFA;\n",
              "      box-shadow: 0px 1px 2px rgba(60, 64, 67, 0.3), 0px 1px 3px 1px rgba(60, 64, 67, 0.15);\n",
              "      fill: #174EA6;\n",
              "    }\n",
              "\n",
              "    [theme=dark] .colab-df-convert {\n",
              "      background-color: #3B4455;\n",
              "      fill: #D2E3FC;\n",
              "    }\n",
              "\n",
              "    [theme=dark] .colab-df-convert:hover {\n",
              "      background-color: #434B5C;\n",
              "      box-shadow: 0px 1px 3px 1px rgba(0, 0, 0, 0.15);\n",
              "      filter: drop-shadow(0px 1px 2px rgba(0, 0, 0, 0.3));\n",
              "      fill: #FFFFFF;\n",
              "    }\n",
              "  </style>\n",
              "\n",
              "      <script>\n",
              "        const buttonEl =\n",
              "          document.querySelector('#df-bc079be1-5094-4fba-920c-f42ac036cb11 button.colab-df-convert');\n",
              "        buttonEl.style.display =\n",
              "          google.colab.kernel.accessAllowed ? 'block' : 'none';\n",
              "\n",
              "        async function convertToInteractive(key) {\n",
              "          const element = document.querySelector('#df-bc079be1-5094-4fba-920c-f42ac036cb11');\n",
              "          const dataTable =\n",
              "            await google.colab.kernel.invokeFunction('convertToInteractive',\n",
              "                                                     [key], {});\n",
              "          if (!dataTable) return;\n",
              "\n",
              "          const docLinkHtml = 'Like what you see? Visit the ' +\n",
              "            '<a target=\"_blank\" href=https://colab.research.google.com/notebooks/data_table.ipynb>data table notebook</a>'\n",
              "            + ' to learn more about interactive tables.';\n",
              "          element.innerHTML = '';\n",
              "          dataTable['output_type'] = 'display_data';\n",
              "          await google.colab.output.renderOutput(dataTable, element);\n",
              "          const docLink = document.createElement('div');\n",
              "          docLink.innerHTML = docLinkHtml;\n",
              "          element.appendChild(docLink);\n",
              "        }\n",
              "      </script>\n",
              "    </div>\n",
              "  </div>\n",
              "  "
            ],
            "text/plain": [
              "  1 - Cerveja In - Mass Flow 1 - Cerveja In - Temperature  \\\n",
              "1                      8.838                        14.67   \n",
              "2                      8.838                        14.67   \n",
              "3                      8.838                        14.67   \n",
              "4                      8.838                        14.67   \n",
              "5                      8.838                        14.67   \n",
              "\n",
              "  1 - Cerveja In - Pressure 1 - Etanol In - Pressure  \\\n",
              "1                     2.997                    2.664   \n",
              "2                     2.997                    2.664   \n",
              "3                     2.997                    2.664   \n",
              "4                     2.997                    2.664   \n",
              "5                     2.997                    2.664   \n",
              "\n",
              "  1 - Etanol In - Temperature 2 - Etanol In - Temperature  \\\n",
              "1                       2.808                      -2.816   \n",
              "2                       2.808                      -2.816   \n",
              "3                       2.808                      -2.616   \n",
              "4                       2.808                      -2.616   \n",
              "5                       2.808                      -2.416   \n",
              "\n",
              "  2 - Etanol In - Pressure  \n",
              "1                    4.401  \n",
              "2                    4.901  \n",
              "3                    4.401  \n",
              "4                    4.901  \n",
              "5                    4.401  "
            ]
          },
          "execution_count": 61,
          "metadata": {},
          "output_type": "execute_result"
        }
      ],
      "source": [
        "# Fazendo leitura das informações dos dadosX\n",
        "dadosX.head()"
      ]
    },
    {
      "cell_type": "code",
      "execution_count": null,
      "metadata": {
        "colab": {
          "base_uri": "https://localhost:8080/"
        },
        "id": "VP4E_jdX-cIP",
        "outputId": "b579ea3f-7a5c-49e0-8784-5e1a2e947ec6"
      },
      "outputs": [
        {
          "name": "stdout",
          "output_type": "stream",
          "text": [
            "Valores do Conjunto:\n",
            "\n",
            "<class 'pandas.core.frame.DataFrame'>\n",
            "Int64Index: 90720 entries, 1 to 90720\n",
            "Data columns (total 7 columns):\n",
            " #   Column                        Non-Null Count  Dtype \n",
            "---  ------                        --------------  ----- \n",
            " 0   1 - Cerveja In - Mass Flow    90720 non-null  object\n",
            " 1   1 - Cerveja In - Temperature  90720 non-null  object\n",
            " 2   1 - Cerveja In - Pressure     90720 non-null  object\n",
            " 3   1 - Etanol In - Pressure      90720 non-null  object\n",
            " 4   1 - Etanol In - Temperature   90720 non-null  object\n",
            " 5   2 - Etanol In - Temperature   90720 non-null  object\n",
            " 6   2 - Etanol In - Pressure      90720 non-null  object\n",
            "dtypes: object(7)\n",
            "memory usage: 5.5+ MB\n",
            "None\n"
          ]
        }
      ],
      "source": [
        "# Averiguando o tipo ou falta de informações das váriveis das variveis dadoX:\n",
        "\n",
        "print(\"Valores do Conjunto:\\n\")\n",
        "print(dadosX.info())"
      ]
    },
    {
      "cell_type": "code",
      "execution_count": null,
      "metadata": {
        "colab": {
          "base_uri": "https://localhost:8080/"
        },
        "id": "iM8ziymLCHXv",
        "outputId": "cdfa20b4-fe60-4e7d-a25b-5ac2a72b3d18"
      },
      "outputs": [
        {
          "name": "stdout",
          "output_type": "stream",
          "text": [
            "<class 'pandas.core.frame.DataFrame'>\n",
            "Int64Index: 90720 entries, 1 to 90720\n",
            "Data columns (total 7 columns):\n",
            " #   Column                        Non-Null Count  Dtype  \n",
            "---  ------                        --------------  -----  \n",
            " 0   1 - Cerveja In - Mass Flow    90720 non-null  float64\n",
            " 1   1 - Cerveja In - Temperature  90720 non-null  float64\n",
            " 2   1 - Cerveja In - Pressure     90720 non-null  float64\n",
            " 3   1 - Etanol In - Pressure      90720 non-null  float64\n",
            " 4   1 - Etanol In - Temperature   90720 non-null  float64\n",
            " 5   2 - Etanol In - Temperature   90720 non-null  float64\n",
            " 6   2 - Etanol In - Pressure      90720 non-null  float64\n",
            "dtypes: float64(7)\n",
            "memory usage: 5.5 MB\n"
          ]
        }
      ],
      "source": [
        "# Transformando as variáveis de entrada em float do 1.° e 2.° Trocador de calor.\n",
        "\n",
        "dadosX['1 - Cerveja In - Mass Flow'] = dadosX['1 - Cerveja In - Mass Flow'].astype('float')\n",
        "dadosX['1 - Cerveja In - Temperature'] = dadosX['1 - Cerveja In - Temperature'].astype('float')\n",
        "dadosX['1 - Cerveja In - Pressure'] = dadosX['1 - Cerveja In - Pressure'].astype('float')\n",
        "dadosX['1 - Etanol In - Pressure'] = dadosX['1 - Etanol In - Pressure'].astype('float')\n",
        "dadosX['1 - Etanol In - Temperature'] = dadosX['1 - Etanol In - Temperature'].astype('float')\n",
        "dadosX['2 - Etanol In - Temperature'] = dadosX['2 - Etanol In - Temperature'].astype('float')\n",
        "dadosX['2 - Etanol In - Pressure'] = dadosX['2 - Etanol In - Pressure'].astype('float')\n",
        "\n",
        "# Verificando os tipos das variveis novamente:\n",
        "\n",
        "dadosX.info()"
      ]
    },
    {
      "cell_type": "code",
      "execution_count": null,
      "metadata": {
        "id": "rBEPiHIDR8my"
      },
      "outputs": [],
      "source": [
        "# Importando da biblioteca o train_test_split para separar os dados em treino e teste.\n",
        " \n",
        "from sklearn.model_selection import train_test_split\n",
        "\n",
        "# No qual separou-se 33% para teste e 67% para treino:\n",
        "\n",
        "X_train, X_test, y_train, y_test = train_test_split( dadosX, dados_y1, test_size=0.33, random_state=42)"
      ]
    },
    {
      "cell_type": "code",
      "execution_count": null,
      "metadata": {
        "colab": {
          "base_uri": "https://localhost:8080/"
        },
        "id": "-pqZu2D0CHP8",
        "outputId": "8a715473-52b6-4042-ee38-aad13ab0f77b"
      },
      "outputs": [
        {
          "data": {
            "text/plain": [
              "((60782, 7), (60782,))"
            ]
          },
          "execution_count": 65,
          "metadata": {},
          "output_type": "execute_result"
        }
      ],
      "source": [
        "# Verificando a quantidade de linha e colunas das variáveis treino:\n",
        "\n",
        "X_train.shape, y_train.shape"
      ]
    },
    {
      "cell_type": "code",
      "execution_count": null,
      "metadata": {
        "colab": {
          "base_uri": "https://localhost:8080/"
        },
        "id": "jTAnyAeGCRvg",
        "outputId": "fc4d6cde-5273-41e3-cd71-6d36bc5ec06c"
      },
      "outputs": [
        {
          "data": {
            "text/plain": [
              "((29938, 7), (29938,))"
            ]
          },
          "execution_count": 66,
          "metadata": {},
          "output_type": "execute_result"
        }
      ],
      "source": [
        "# Verificando a quantidade de linha e colunas das variáveis teste:\n",
        "\n",
        "X_test.shape,y_test.shape"
      ]
    },
    {
      "cell_type": "code",
      "execution_count": null,
      "metadata": {
        "colab": {
          "base_uri": "https://localhost:8080/",
          "height": 787
        },
        "id": "JwUHWE-s6Zpk",
        "outputId": "70eef14b-39be-41e3-89b9-61c6e23a06c7"
      },
      "outputs": [
        {
          "name": "stdout",
          "output_type": "stream",
          "text": [
            "Modelo: LinearRegression |Valores do Score: [0.83521431 0.83613327 0.83578039 0.83036244]| Valores dos coeficientes: [ 9.91527377  3.93996274  0.21689945  0.0324071  18.02982764 -0.0338367\n",
            " -0.02667047] | Intercept: -193.71071036376105 | Média: 0.8343726043279123 | Desvio: 0.0023383573004877914 | Mean squared error (MSE): 12.845974339548986 \n",
            "Training set score: 0.8344017416118438\n",
            "Test set score: 0.834514902258946\n",
            "Legend\n",
            "\n",
            "Tempo do modelo de regressão linear: 0.35981011390686035 seg\n",
            "Modelo: MLPRegressor |Valores do Score: [0.85267436 0.87052364 0.86563706 0.93041956] | Média: 0.8798136578871353 | Desvio: 0.029936512950207057 | Mean squared error (MSE): 10.264453696833034\n",
            "Training set score: 0.8680741120108157\n",
            "Test set score: 0.8677707055626444\n",
            "Legend\n",
            "\n",
            "Tempo do modelo MLPRegessor: 375.51687026023865 seg\n",
            "Modelo: DecisionTreeRegressor |Valores do Score: [0.99999981 0.99999985 0.99999969 0.99999988]| Valores dos coeficientes: [4.58842670e-01 2.85670038e-01 3.40528533e-05 6.33149111e-06\n",
            " 2.55446907e-01 7.17629608e-10 1.02026192e-10] | Média: 0.9999998065935495 | Desvio: 7.369561735804866e-08 | Mean squared error (MSE): 1.5966330416193926e-06 \n",
            "Training set score: 1.0\n",
            "Test set score: 0.9999999794317684\n",
            "1 - Cerveja In - Mass Flow 0.4588426702197365\n",
            "1 - Cerveja In - Temperature 0.2856700375407601\n",
            "1 - Etanol In - Temperature 0.2554469070754154\n",
            "1 - Cerveja In - Pressure 3.405285331763572e-05\n",
            "1 - Etanol In - Pressure 6.331491114773e-06\n",
            "2 - Etanol In - Temperature 7.176296077412688e-10\n",
            "2 - Etanol In - Pressure 1.0202619213634297e-10\n",
            "Legend\n",
            "\n",
            "Tempo do modelo da arvore de decisão: 0.6978514194488525 seg\n"
          ]
        },
        {
          "data": {
            "image/png": "[encoded data removed]",
            "text/plain": [
              "<Figure size 432x288 with 1 Axes>"
            ]
          },
          "metadata": {},
          "output_type": "display_data"
        }
      ],
      "source": [
        "# ignorando warnings da MLP\n",
        "\n",
        "import warnings\n",
        "warnings.filterwarnings(\"ignore\")\n",
        "\n",
        "# Importando os modelos de Regressão Linear, Perceptron Múltiplas Camadas e Árvore de Decisão. \n",
        "\n",
        "from sklearn.linear_model import LinearRegression\n",
        "from sklearn.neural_network import MLPRegressor\n",
        "from sklearn.tree import DecisionTreeRegressor\n",
        "\n",
        "# Importando os cálculos para fazer validação cruzada.\n",
        "\n",
        "from sklearn.model_selection import cross_val_score\n",
        "from sklearn.model_selection import KFold\n",
        "\n",
        "# Definindo o número de divisões da validação cruzada.\n",
        "\n",
        "kfold = KFold(n_splits=4, shuffle=True, random_state=42)\n",
        "\n",
        "# Importanto o Erro Quadratico médio\n",
        "\n",
        "from sklearn.metrics import mean_squared_error\n",
        "\n",
        "# conjunto de modelos\n",
        "models = [LinearRegression(), MLPRegressor(),DecisionTreeRegressor()]\n",
        "\n",
        "# Lista dos nomes das variáveis importantes.\n",
        "\n",
        "nome_features = []\n",
        "\n",
        "# Lista dos valores das variáveis importantes.\n",
        "import time\n",
        "features = []\n",
        "\n",
        "for model in models: # Aplicando em cada modelo as regras.\n",
        "    inicio = time.time()\n",
        "    val_scores = cross_val_score(model,X_train, y_train, cv=kfold) # Aplicando ao modelo uma validação cruzada nos dados de treino. \n",
        "    nome_modelo = type(model).__name__ # somente para exibição.\n",
        "    model.fit(X_train, y_train) # Ajustando o modelo de treino. \n",
        "    Y_pred = model.predict(X_test) # Predizendo a variável target utilizando o dado de teste.\n",
        "    \n",
        "    if models[0]==model: # Se o modelo é de regressão linear aplica-se essas regras.\n",
        "      print('Modelo: {} |Valores do Score: {}| Valores dos coeficientes: {} | Intercept: {} | Média: {} | Desvio: {} | Mean squared error (MSE): {} '.format(nome_modelo,\n",
        "              val_scores,model.coef_,model.intercept_,np.mean(val_scores), np.std(val_scores),mean_squared_error(y_test,Y_pred)))\n",
        "      \n",
        "      print(\"Training set score: {}\".format(model.score(X_train, y_train))) # Coeficiente de determinação do treino.\n",
        "      print(\"Test set score: {}\".format(model.score(X_test, y_test))) # Coeficiente de determinação do test.\n",
        "      media_scores1=np.mean(val_scores) # Média do coeficiente de determinação dos valores da validação cruzada. \n",
        "      print(sns.scatterplot(y_test,Y_pred,color='blue',\n",
        "                            marker='o',legend='full',alpha=1,\n",
        "                            label= r\" Linear Regression - $R^2: {:.3f}$\".format(media_scores1)).legend(loc=\"best\"))\n",
        "                            # Plotando o modelo Regressão Linear.\n",
        "      fim = time.time()\n",
        "      tempoRL= fim-inicio\n",
        "      print('\\nTempo do modelo de regressão linear: {} seg'.format(tempoRL))\n",
        "\n",
        "    if models[1]==model: # Se o modelo é de Perceptron Múltiplas Camadas aplica-se essas regras.\n",
        "      print('Modelo: {} |Valores do Score: {} | Média: {} | Desvio: {} | Mean squared error (MSE): {}'.format(nome_modelo,val_scores,\n",
        "                                   np.mean(val_scores), np.std(val_scores),mean_squared_error(y_test,Y_pred)))\n",
        "      print(\"Training set score: {}\".format(model.score(X_train, y_train))) # Coeficiente de determinação do treino.\n",
        "      print(\"Test set score: {}\".format(model.score(X_test, y_test))) # Coeficiente de determinação do test.\n",
        "      media_scores2=np.mean(val_scores) # Média do coeficiente de determinação dos valores da validação cruzada.\n",
        "      print(sns.scatterplot(y_test,Y_pred,color='green',\n",
        "                            marker='o',legend='full',alpha=1,\n",
        "                            label= r\" MLPRegressor - $R^2: {:.3f}$\".format(media_scores2)).legend(loc=\"best\"))\n",
        "                            # Plotando o modelo MLPRegressor.\n",
        "      fim = time.time()\n",
        "      tempoMLP= fim-inicio\n",
        "      print('\\nTempo do modelo MLPRegessor: {} seg'.format(tempoMLP))\n",
        "\n",
        "    if models[2]==model: # Se o modelo é de Árvore de Decisão aplica-se essas regras.\n",
        "      print('Modelo: {} |Valores do Score: {}| Valores dos coeficientes: {} | Média: {} | Desvio: {} | Mean squared error (MSE): {} '.format(nome_modelo,val_scores,model.feature_importances_,\n",
        "                                   np.mean(val_scores), np.std(val_scores),mean_squared_error(y_test,Y_pred)))\n",
        "      print(\"Training set score: {}\".format(model.score(X_train, y_train))) # Coeficiente de determinação do treino.\n",
        "      print(\"Test set score: {}\".format(model.score(X_test, y_test))) # Coeficiente de determinação do test.\n",
        "      \n",
        "      for importance, name in sorted(zip(model.feature_importances_, X_train.columns),reverse=True):\n",
        "        print (name, importance) # Printando o nome e valores das variáveis importantes.\n",
        "        nome_features.append(name) # Guardando na lista dos nomes das variáveis importantes.\n",
        "        features.append(importance) # Guardando na lista dos valores das variáveis importantes.\n",
        "      media_scores3=np.mean(val_scores) # Média do coeficiente de determinação dos valores da validação cruzada.\n",
        "      print(sns.scatterplot(y_test,Y_pred,color='red',\n",
        "                            marker='o',legend='full',alpha=1,\n",
        "                            label= r\" Decision Tree Regressor - $R^2: {:.3f}$\".format(media_scores3)).legend(loc=\"best\"))\n",
        "                            # Plotando o modelo árvore de decisão.\n",
        "      fim = time.time()\n",
        "      tempoDTR= fim-inicio\n",
        "      print('\\nTempo do modelo da arvore de decisão: {} seg'.format(tempoDTR))\n",
        "\n",
        "#plt.ylim([77,max(dados_Ue['1 - EficiênciaQuente']+1)])\n",
        "plt.ylim([0,80])\n",
        "plt.xlim([0,80])\n",
        "plt.xlabel(r'Vazão Mássica da Corrente Etanol (Teste/Real) $[\\frac{kg}{s}]$') # Nome do eixo abscissa (x).\n",
        "plt.ylabel(r'Vazão Mássica da Corrente Etanol (Predito) $[\\frac{kg}{s}]$') # Nome do eixo ordenada (y).\n",
        "plt.savefig('1- Etanol Out - Mass Flow.pdf', \n",
        "           transparent=True) # Salvando a figura em pdf."
      ]
    },
    {
      "cell_type": "code",
      "execution_count": null,
      "metadata": {
        "colab": {
          "base_uri": "https://localhost:8080/"
        },
        "id": "a1dmoBIfe5Q3",
        "outputId": "c2b671c1-9f3e-4695-bfda-11c2476dbc63"
      },
      "outputs": [
        {
          "data": {
            "text/plain": [
              "[45.88, 28.57, 25.54, 0.0, 0.0, 0.0, 0.0]"
            ]
          },
          "execution_count": 68,
          "metadata": {},
          "output_type": "execute_result"
        }
      ],
      "source": [
        "# Transformando os valores das variáveis de grau de importancia do modelo árvore de decisão em float.\n",
        "\n",
        "variaveis=[]\n",
        "for i in list(features):\n",
        "  v = float('{:.2f}'.format(i*100))\n",
        "  variaveis.append(v)\n",
        "variaveis"
      ]
    },
    {
      "cell_type": "code",
      "execution_count": null,
      "metadata": {
        "colab": {
          "base_uri": "https://localhost:8080/",
          "height": 352
        },
        "id": "LfvcyNseb0Yx",
        "outputId": "30446c10-9510-49e6-bc9e-0215fc794f10"
      },
      "outputs": [
        {
          "data": {
            "image/png": "[encoded data removed]",
            "text/plain": [
              "<Figure size 576x360 with 1 Axes>"
            ]
          },
          "metadata": {},
          "output_type": "display_data"
        },
        {
          "data": {
            "text/plain": [
              "<Figure size 432x288 with 0 Axes>"
            ]
          },
          "metadata": {},
          "output_type": "display_data"
        }
      ],
      "source": [
        "# Platando o gráfico das variveis importante\n",
        "\n",
        "fake = pd.DataFrame({'f': variaveis,'g': nome_features})  # Transformando os dados em DataFrame.\n",
        "plt.figure(figsize=(8,5)) # Definindo o tamanho da figura.\n",
        "fig = sns.barplot(x = 'f', y = 'g',data=fake,palette=\"Set1\") # Inserindo os dados do gráfico em barra.\n",
        "for py,px in enumerate(variaveis): # Colocando o rótulo no gráfico.\n",
        "  if px!=0:\n",
        "    fig.annotate(str(px)+'%',xy=(px,py))\n",
        "fig.spines['top'].set_visible(False) # Retirando a linha superior da figura.\n",
        "fig.spines['right'].set_visible(False) # Retirando a linha à direita da figura.\n",
        "plt.xlabel(\"Feature_importance [ % ]\") # Nome do eixo abscissa (x).\n",
        "plt.ylabel(\"Feature\") # Nome do eixo ordenada (y).\n",
        "\n",
        "plt.show(fig)\n",
        "plt.savefig('1 - Feature_importance.pdf', \n",
        "           transparent=True) # Salvando a figura em pdf."
      ]
    },
    {
      "cell_type": "code",
      "execution_count": null,
      "metadata": {
        "colab": {
          "base_uri": "https://localhost:8080/",
          "height": 424
        },
        "id": "uZwIVCofDBEM",
        "outputId": "69ea1fb0-c821-49a2-ffea-1f33f300b226"
      },
      "outputs": [
        {
          "data": {
            "text/html": [
              "\n",
              "  <div id=\"df-d76eb0da-bdc9-45fc-9af8-4f05beac83ae\">\n",
              "    <div class=\"colab-df-container\">\n",
              "      <div>\n",
              "<style scoped>\n",
              "    .dataframe tbody tr th:only-of-type {\n",
              "        vertical-align: middle;\n",
              "    }\n",
              "\n",
              "    .dataframe tbody tr th {\n",
              "        vertical-align: top;\n",
              "    }\n",
              "\n",
              "    .dataframe thead th {\n",
              "        text-align: right;\n",
              "    }\n",
              "</style>\n",
              "<table border=\"1\" class=\"dataframe\">\n",
              "  <thead>\n",
              "    <tr style=\"text-align: right;\">\n",
              "      <th></th>\n",
              "      <th>1 - CpmedioQuente</th>\n",
              "      <th>1 - CpmedioFrio</th>\n",
              "      <th>2 - CpmedioQuente</th>\n",
              "      <th>2 - CpmedioFrio</th>\n",
              "    </tr>\n",
              "  </thead>\n",
              "  <tbody>\n",
              "    <tr>\n",
              "      <th>1</th>\n",
              "      <td>4.106</td>\n",
              "      <td>3.9105</td>\n",
              "      <td>4.1035</td>\n",
              "      <td>3.9250</td>\n",
              "    </tr>\n",
              "    <tr>\n",
              "      <th>2</th>\n",
              "      <td>4.106</td>\n",
              "      <td>3.9105</td>\n",
              "      <td>4.1035</td>\n",
              "      <td>3.9250</td>\n",
              "    </tr>\n",
              "    <tr>\n",
              "      <th>3</th>\n",
              "      <td>4.106</td>\n",
              "      <td>3.9105</td>\n",
              "      <td>4.1035</td>\n",
              "      <td>3.9270</td>\n",
              "    </tr>\n",
              "    <tr>\n",
              "      <th>4</th>\n",
              "      <td>4.106</td>\n",
              "      <td>3.9105</td>\n",
              "      <td>4.1035</td>\n",
              "      <td>3.9270</td>\n",
              "    </tr>\n",
              "    <tr>\n",
              "      <th>5</th>\n",
              "      <td>4.106</td>\n",
              "      <td>3.9105</td>\n",
              "      <td>4.1035</td>\n",
              "      <td>3.9295</td>\n",
              "    </tr>\n",
              "    <tr>\n",
              "      <th>...</th>\n",
              "      <td>...</td>\n",
              "      <td>...</td>\n",
              "      <td>...</td>\n",
              "      <td>...</td>\n",
              "    </tr>\n",
              "    <tr>\n",
              "      <th>90716</th>\n",
              "      <td>4.114</td>\n",
              "      <td>3.8955</td>\n",
              "      <td>4.1035</td>\n",
              "      <td>3.9405</td>\n",
              "    </tr>\n",
              "    <tr>\n",
              "      <th>90717</th>\n",
              "      <td>4.114</td>\n",
              "      <td>3.8955</td>\n",
              "      <td>4.1035</td>\n",
              "      <td>3.9400</td>\n",
              "    </tr>\n",
              "    <tr>\n",
              "      <th>90718</th>\n",
              "      <td>4.114</td>\n",
              "      <td>3.8955</td>\n",
              "      <td>4.1035</td>\n",
              "      <td>3.9400</td>\n",
              "    </tr>\n",
              "    <tr>\n",
              "      <th>90719</th>\n",
              "      <td>4.114</td>\n",
              "      <td>3.8955</td>\n",
              "      <td>4.1035</td>\n",
              "      <td>3.9405</td>\n",
              "    </tr>\n",
              "    <tr>\n",
              "      <th>90720</th>\n",
              "      <td>4.114</td>\n",
              "      <td>3.8955</td>\n",
              "      <td>4.1035</td>\n",
              "      <td>3.9405</td>\n",
              "    </tr>\n",
              "  </tbody>\n",
              "</table>\n",
              "<p>90720 rows × 4 columns</p>\n",
              "</div>\n",
              "      <button class=\"colab-df-convert\" onclick=\"convertToInteractive('df-d76eb0da-bdc9-45fc-9af8-4f05beac83ae')\"\n",
              "              title=\"Convert this dataframe to an interactive table.\"\n",
              "              style=\"display:none;\">\n",
              "        \n",
              "  <svg xmlns=\"http://www.w3.org/2000/svg\" height=\"24px\"viewBox=\"0 0 24 24\"\n",
              "       width=\"24px\">\n",
              "    <path d=\"M0 0h24v24H0V0z\" fill=\"none\"/>\n",
              "    <path d=\"M18.56 5.44l.94 2.06.94-2.06 2.06-.94-2.06-.94-.94-2.06-.94 2.06-2.06.94zm-11 1L8.5 8.5l.94-2.06 2.06-.94-2.06-.94L8.5 2.5l-.94 2.06-2.06.94zm10 10l.94 2.06.94-2.06 2.06-.94-2.06-.94-.94-2.06-.94 2.06-2.06.94z\"/><path d=\"M17.41 7.96l-1.37-1.37c-.4-.4-.92-.59-1.43-.59-.52 0-1.04.2-1.43.59L10.3 9.45l-7.72 7.72c-.78.78-.78 2.05 0 2.83L4 21.41c.39.39.9.59 1.41.59.51 0 1.02-.2 1.41-.59l7.78-7.78 2.81-2.81c.8-.78.8-2.07 0-2.86zM5.41 20L4 18.59l7.72-7.72 1.47 1.35L5.41 20z\"/>\n",
              "  </svg>\n",
              "      </button>\n",
              "      \n",
              "  <style>\n",
              "    .colab-df-container {\n",
              "      display:flex;\n",
              "      flex-wrap:wrap;\n",
              "      gap: 12px;\n",
              "    }\n",
              "\n",
              "    .colab-df-convert {\n",
              "      background-color: #E8F0FE;\n",
              "      border: none;\n",
              "      border-radius: 50%;\n",
              "      cursor: pointer;\n",
              "      display: none;\n",
              "      fill: #1967D2;\n",
              "      height: 32px;\n",
              "      padding: 0 0 0 0;\n",
              "      width: 32px;\n",
              "    }\n",
              "\n",
              "    .colab-df-convert:hover {\n",
              "      background-color: #E2EBFA;\n",
              "      box-shadow: 0px 1px 2px rgba(60, 64, 67, 0.3), 0px 1px 3px 1px rgba(60, 64, 67, 0.15);\n",
              "      fill: #174EA6;\n",
              "    }\n",
              "\n",
              "    [theme=dark] .colab-df-convert {\n",
              "      background-color: #3B4455;\n",
              "      fill: #D2E3FC;\n",
              "    }\n",
              "\n",
              "    [theme=dark] .colab-df-convert:hover {\n",
              "      background-color: #434B5C;\n",
              "      box-shadow: 0px 1px 3px 1px rgba(0, 0, 0, 0.15);\n",
              "      filter: drop-shadow(0px 1px 2px rgba(0, 0, 0, 0.3));\n",
              "      fill: #FFFFFF;\n",
              "    }\n",
              "  </style>\n",
              "\n",
              "      <script>\n",
              "        const buttonEl =\n",
              "          document.querySelector('#df-d76eb0da-bdc9-45fc-9af8-4f05beac83ae button.colab-df-convert');\n",
              "        buttonEl.style.display =\n",
              "          google.colab.kernel.accessAllowed ? 'block' : 'none';\n",
              "\n",
              "        async function convertToInteractive(key) {\n",
              "          const element = document.querySelector('#df-d76eb0da-bdc9-45fc-9af8-4f05beac83ae');\n",
              "          const dataTable =\n",
              "            await google.colab.kernel.invokeFunction('convertToInteractive',\n",
              "                                                     [key], {});\n",
              "          if (!dataTable) return;\n",
              "\n",
              "          const docLinkHtml = 'Like what you see? Visit the ' +\n",
              "            '<a target=\"_blank\" href=https://colab.research.google.com/notebooks/data_table.ipynb>data table notebook</a>'\n",
              "            + ' to learn more about interactive tables.';\n",
              "          element.innerHTML = '';\n",
              "          dataTable['output_type'] = 'display_data';\n",
              "          await google.colab.output.renderOutput(dataTable, element);\n",
              "          const docLink = document.createElement('div');\n",
              "          docLink.innerHTML = docLinkHtml;\n",
              "          element.appendChild(docLink);\n",
              "        }\n",
              "      </script>\n",
              "    </div>\n",
              "  </div>\n",
              "  "
            ],
            "text/plain": [
              "       1 - CpmedioQuente  1 - CpmedioFrio  2 - CpmedioQuente  2 - CpmedioFrio\n",
              "1                  4.106           3.9105             4.1035           3.9250\n",
              "2                  4.106           3.9105             4.1035           3.9250\n",
              "3                  4.106           3.9105             4.1035           3.9270\n",
              "4                  4.106           3.9105             4.1035           3.9270\n",
              "5                  4.106           3.9105             4.1035           3.9295\n",
              "...                  ...              ...                ...              ...\n",
              "90716              4.114           3.8955             4.1035           3.9405\n",
              "90717              4.114           3.8955             4.1035           3.9400\n",
              "90718              4.114           3.8955             4.1035           3.9400\n",
              "90719              4.114           3.8955             4.1035           3.9405\n",
              "90720              4.114           3.8955             4.1035           3.9405\n",
              "\n",
              "[90720 rows x 4 columns]"
            ]
          },
          "execution_count": 70,
          "metadata": {},
          "output_type": "execute_result"
        }
      ],
      "source": [
        "# Calculando o cdpMédio do lado quente e do lado frio, para cada um dos trocadores.\n",
        "dados_U['1 - CpmedioQuente'] = (dados_U['1 - Cerveja In - Mass Heat Capacity']+dados_U['Cerveja Out - Mass Heat Capacity'])/2\n",
        "dados_U['1 - CpmedioFrio'] = (dados_U['1 - Etanol In - Mass Heat Capacity']+dados_U['1 - Etanol Out - Mass Heat Capacity'])/2\n",
        "dados_U['2 - CpmedioQuente'] = (dados_U['Cerveja Out - Mass Heat Capacity']+dados_U['2 - Cerveja Out - Mass Heat Capacity'])/2\n",
        "dados_U['2 - CpmedioFrio'] = (dados_U['2 - Etanol In - Mass Heat Capacity']+dados_U['2 - Etanol Out - Mass Heat Capacity'])/2\n",
        "dados_U[['1 - CpmedioQuente','1 - CpmedioFrio','2 - CpmedioQuente','2 - CpmedioFrio']]"
      ]
    },
    {
      "cell_type": "code",
      "execution_count": null,
      "metadata": {
        "id": "xXk2aLJyMCj2"
      },
      "outputs": [],
      "source": [
        "# Predizendo a corrente Etanol a partir do modelo árvore de decisão, no primeiro trocador de calor.\n",
        "dados_U['1 - Etanol Out - Mass Flow'] = model.predict(dadosX)"
      ]
    },
    {
      "cell_type": "code",
      "execution_count": null,
      "metadata": {
        "colab": {
          "base_uri": "https://localhost:8080/",
          "height": 424
        },
        "id": "Vjg9HjgUDieO",
        "outputId": "b42cfab7-5bd8-4d60-ba62-ffb9ef5c4939"
      },
      "outputs": [
        {
          "data": {
            "text/html": [
              "\n",
              "  <div id=\"df-19b8831b-ed38-41b2-85b0-bb5e4ec1dd1a\">\n",
              "    <div class=\"colab-df-container\">\n",
              "      <div>\n",
              "<style scoped>\n",
              "    .dataframe tbody tr th:only-of-type {\n",
              "        vertical-align: middle;\n",
              "    }\n",
              "\n",
              "    .dataframe tbody tr th {\n",
              "        vertical-align: top;\n",
              "    }\n",
              "\n",
              "    .dataframe thead th {\n",
              "        text-align: right;\n",
              "    }\n",
              "</style>\n",
              "<table border=\"1\" class=\"dataframe\">\n",
              "  <thead>\n",
              "    <tr style=\"text-align: right;\">\n",
              "      <th></th>\n",
              "      <th>1 - m.CpmedioQuente</th>\n",
              "      <th>1 - m.CpmedioFrio</th>\n",
              "    </tr>\n",
              "  </thead>\n",
              "  <tbody>\n",
              "    <tr>\n",
              "      <th>1</th>\n",
              "      <td>36.288828</td>\n",
              "      <td>46.652265</td>\n",
              "    </tr>\n",
              "    <tr>\n",
              "      <th>2</th>\n",
              "      <td>36.288828</td>\n",
              "      <td>46.652265</td>\n",
              "    </tr>\n",
              "    <tr>\n",
              "      <th>3</th>\n",
              "      <td>36.288828</td>\n",
              "      <td>46.652265</td>\n",
              "    </tr>\n",
              "    <tr>\n",
              "      <th>4</th>\n",
              "      <td>36.288828</td>\n",
              "      <td>46.652265</td>\n",
              "    </tr>\n",
              "    <tr>\n",
              "      <th>5</th>\n",
              "      <td>36.288828</td>\n",
              "      <td>46.652265</td>\n",
              "    </tr>\n",
              "    <tr>\n",
              "      <th>...</th>\n",
              "      <td>...</td>\n",
              "      <td>...</td>\n",
              "    </tr>\n",
              "    <tr>\n",
              "      <th>90716</th>\n",
              "      <td>43.772960</td>\n",
              "      <td>293.058465</td>\n",
              "    </tr>\n",
              "    <tr>\n",
              "      <th>90717</th>\n",
              "      <td>43.772960</td>\n",
              "      <td>293.058465</td>\n",
              "    </tr>\n",
              "    <tr>\n",
              "      <th>90718</th>\n",
              "      <td>43.772960</td>\n",
              "      <td>293.058465</td>\n",
              "    </tr>\n",
              "    <tr>\n",
              "      <th>90719</th>\n",
              "      <td>43.772960</td>\n",
              "      <td>293.058465</td>\n",
              "    </tr>\n",
              "    <tr>\n",
              "      <th>90720</th>\n",
              "      <td>43.772960</td>\n",
              "      <td>293.058465</td>\n",
              "    </tr>\n",
              "  </tbody>\n",
              "</table>\n",
              "<p>90720 rows × 2 columns</p>\n",
              "</div>\n",
              "      <button class=\"colab-df-convert\" onclick=\"convertToInteractive('df-19b8831b-ed38-41b2-85b0-bb5e4ec1dd1a')\"\n",
              "              title=\"Convert this dataframe to an interactive table.\"\n",
              "              style=\"display:none;\">\n",
              "        \n",
              "  <svg xmlns=\"http://www.w3.org/2000/svg\" height=\"24px\"viewBox=\"0 0 24 24\"\n",
              "       width=\"24px\">\n",
              "    <path d=\"M0 0h24v24H0V0z\" fill=\"none\"/>\n",
              "    <path d=\"M18.56 5.44l.94 2.06.94-2.06 2.06-.94-2.06-.94-.94-2.06-.94 2.06-2.06.94zm-11 1L8.5 8.5l.94-2.06 2.06-.94-2.06-.94L8.5 2.5l-.94 2.06-2.06.94zm10 10l.94 2.06.94-2.06 2.06-.94-2.06-.94-.94-2.06-.94 2.06-2.06.94z\"/><path d=\"M17.41 7.96l-1.37-1.37c-.4-.4-.92-.59-1.43-.59-.52 0-1.04.2-1.43.59L10.3 9.45l-7.72 7.72c-.78.78-.78 2.05 0 2.83L4 21.41c.39.39.9.59 1.41.59.51 0 1.02-.2 1.41-.59l7.78-7.78 2.81-2.81c.8-.78.8-2.07 0-2.86zM5.41 20L4 18.59l7.72-7.72 1.47 1.35L5.41 20z\"/>\n",
              "  </svg>\n",
              "      </button>\n",
              "      \n",
              "  <style>\n",
              "    .colab-df-container {\n",
              "      display:flex;\n",
              "      flex-wrap:wrap;\n",
              "      gap: 12px;\n",
              "    }\n",
              "\n",
              "    .colab-df-convert {\n",
              "      background-color: #E8F0FE;\n",
              "      border: none;\n",
              "      border-radius: 50%;\n",
              "      cursor: pointer;\n",
              "      display: none;\n",
              "      fill: #1967D2;\n",
              "      height: 32px;\n",
              "      padding: 0 0 0 0;\n",
              "      width: 32px;\n",
              "    }\n",
              "\n",
              "    .colab-df-convert:hover {\n",
              "      background-color: #E2EBFA;\n",
              "      box-shadow: 0px 1px 2px rgba(60, 64, 67, 0.3), 0px 1px 3px 1px rgba(60, 64, 67, 0.15);\n",
              "      fill: #174EA6;\n",
              "    }\n",
              "\n",
              "    [theme=dark] .colab-df-convert {\n",
              "      background-color: #3B4455;\n",
              "      fill: #D2E3FC;\n",
              "    }\n",
              "\n",
              "    [theme=dark] .colab-df-convert:hover {\n",
              "      background-color: #434B5C;\n",
              "      box-shadow: 0px 1px 3px 1px rgba(0, 0, 0, 0.15);\n",
              "      filter: drop-shadow(0px 1px 2px rgba(0, 0, 0, 0.3));\n",
              "      fill: #FFFFFF;\n",
              "    }\n",
              "  </style>\n",
              "\n",
              "      <script>\n",
              "        const buttonEl =\n",
              "          document.querySelector('#df-19b8831b-ed38-41b2-85b0-bb5e4ec1dd1a button.colab-df-convert');\n",
              "        buttonEl.style.display =\n",
              "          google.colab.kernel.accessAllowed ? 'block' : 'none';\n",
              "\n",
              "        async function convertToInteractive(key) {\n",
              "          const element = document.querySelector('#df-19b8831b-ed38-41b2-85b0-bb5e4ec1dd1a');\n",
              "          const dataTable =\n",
              "            await google.colab.kernel.invokeFunction('convertToInteractive',\n",
              "                                                     [key], {});\n",
              "          if (!dataTable) return;\n",
              "\n",
              "          const docLinkHtml = 'Like what you see? Visit the ' +\n",
              "            '<a target=\"_blank\" href=https://colab.research.google.com/notebooks/data_table.ipynb>data table notebook</a>'\n",
              "            + ' to learn more about interactive tables.';\n",
              "          element.innerHTML = '';\n",
              "          dataTable['output_type'] = 'display_data';\n",
              "          await google.colab.output.renderOutput(dataTable, element);\n",
              "          const docLink = document.createElement('div');\n",
              "          docLink.innerHTML = docLinkHtml;\n",
              "          element.appendChild(docLink);\n",
              "        }\n",
              "      </script>\n",
              "    </div>\n",
              "  </div>\n",
              "  "
            ],
            "text/plain": [
              "       1 - m.CpmedioQuente  1 - m.CpmedioFrio\n",
              "1                36.288828          46.652265\n",
              "2                36.288828          46.652265\n",
              "3                36.288828          46.652265\n",
              "4                36.288828          46.652265\n",
              "5                36.288828          46.652265\n",
              "...                    ...                ...\n",
              "90716            43.772960         293.058465\n",
              "90717            43.772960         293.058465\n",
              "90718            43.772960         293.058465\n",
              "90719            43.772960         293.058465\n",
              "90720            43.772960         293.058465\n",
              "\n",
              "[90720 rows x 2 columns]"
            ]
          },
          "execution_count": 72,
          "metadata": {},
          "output_type": "execute_result"
        }
      ],
      "source": [
        "# Calculando do produto minimo da vazão mássica e capacidade calorifica, no primeiro trocador de calor. \n",
        "dados_U['1 - m.CpmedioQuente']=dados_U['1 - CpmedioQuente']*dados_U['1 - Cerveja In - Mass Flow']\n",
        "dados_U['1 - m.CpmedioFrio']=dados_U['1 - CpmedioFrio']*dados_U['1 - Etanol Out - Mass Flow']\n",
        "dados_U[['1 - m.CpmedioQuente','1 - m.CpmedioFrio']]"
      ]
    },
    {
      "cell_type": "code",
      "execution_count": null,
      "metadata": {
        "colab": {
          "base_uri": "https://localhost:8080/",
          "height": 424
        },
        "id": "PFMiT1APPYFW",
        "outputId": "36aa98a9-9341-4ea9-bec5-d49ebedfcd5e"
      },
      "outputs": [
        {
          "data": {
            "text/html": [
              "\n",
              "  <div id=\"df-d805e9db-9ed2-4ead-9ce7-c71641ceaf17\">\n",
              "    <div class=\"colab-df-container\">\n",
              "      <div>\n",
              "<style scoped>\n",
              "    .dataframe tbody tr th:only-of-type {\n",
              "        vertical-align: middle;\n",
              "    }\n",
              "\n",
              "    .dataframe tbody tr th {\n",
              "        vertical-align: top;\n",
              "    }\n",
              "\n",
              "    .dataframe thead th {\n",
              "        text-align: right;\n",
              "    }\n",
              "</style>\n",
              "<table border=\"1\" class=\"dataframe\">\n",
              "  <thead>\n",
              "    <tr style=\"text-align: right;\">\n",
              "      <th></th>\n",
              "      <th>1 - Qquente</th>\n",
              "      <th>1 - Qfrio</th>\n",
              "    </tr>\n",
              "  </thead>\n",
              "  <tbody>\n",
              "    <tr>\n",
              "      <th>1</th>\n",
              "      <td>333.857218</td>\n",
              "      <td>335.476438</td>\n",
              "    </tr>\n",
              "    <tr>\n",
              "      <th>2</th>\n",
              "      <td>333.857218</td>\n",
              "      <td>335.476438</td>\n",
              "    </tr>\n",
              "    <tr>\n",
              "      <th>3</th>\n",
              "      <td>333.857218</td>\n",
              "      <td>335.476438</td>\n",
              "    </tr>\n",
              "    <tr>\n",
              "      <th>4</th>\n",
              "      <td>333.857218</td>\n",
              "      <td>335.476438</td>\n",
              "    </tr>\n",
              "    <tr>\n",
              "      <th>5</th>\n",
              "      <td>333.857218</td>\n",
              "      <td>335.476438</td>\n",
              "    </tr>\n",
              "    <tr>\n",
              "      <th>...</th>\n",
              "      <td>...</td>\n",
              "      <td>...</td>\n",
              "    </tr>\n",
              "    <tr>\n",
              "      <th>90716</th>\n",
              "      <td>542.784704</td>\n",
              "      <td>553.001323</td>\n",
              "    </tr>\n",
              "    <tr>\n",
              "      <th>90717</th>\n",
              "      <td>542.784704</td>\n",
              "      <td>553.001323</td>\n",
              "    </tr>\n",
              "    <tr>\n",
              "      <th>90718</th>\n",
              "      <td>542.784704</td>\n",
              "      <td>553.001323</td>\n",
              "    </tr>\n",
              "    <tr>\n",
              "      <th>90719</th>\n",
              "      <td>542.784704</td>\n",
              "      <td>553.001323</td>\n",
              "    </tr>\n",
              "    <tr>\n",
              "      <th>90720</th>\n",
              "      <td>542.784704</td>\n",
              "      <td>553.001323</td>\n",
              "    </tr>\n",
              "  </tbody>\n",
              "</table>\n",
              "<p>90720 rows × 2 columns</p>\n",
              "</div>\n",
              "      <button class=\"colab-df-convert\" onclick=\"convertToInteractive('df-d805e9db-9ed2-4ead-9ce7-c71641ceaf17')\"\n",
              "              title=\"Convert this dataframe to an interactive table.\"\n",
              "              style=\"display:none;\">\n",
              "        \n",
              "  <svg xmlns=\"http://www.w3.org/2000/svg\" height=\"24px\"viewBox=\"0 0 24 24\"\n",
              "       width=\"24px\">\n",
              "    <path d=\"M0 0h24v24H0V0z\" fill=\"none\"/>\n",
              "    <path d=\"M18.56 5.44l.94 2.06.94-2.06 2.06-.94-2.06-.94-.94-2.06-.94 2.06-2.06.94zm-11 1L8.5 8.5l.94-2.06 2.06-.94-2.06-.94L8.5 2.5l-.94 2.06-2.06.94zm10 10l.94 2.06.94-2.06 2.06-.94-2.06-.94-.94-2.06-.94 2.06-2.06.94z\"/><path d=\"M17.41 7.96l-1.37-1.37c-.4-.4-.92-.59-1.43-.59-.52 0-1.04.2-1.43.59L10.3 9.45l-7.72 7.72c-.78.78-.78 2.05 0 2.83L4 21.41c.39.39.9.59 1.41.59.51 0 1.02-.2 1.41-.59l7.78-7.78 2.81-2.81c.8-.78.8-2.07 0-2.86zM5.41 20L4 18.59l7.72-7.72 1.47 1.35L5.41 20z\"/>\n",
              "  </svg>\n",
              "      </button>\n",
              "      \n",
              "  <style>\n",
              "    .colab-df-container {\n",
              "      display:flex;\n",
              "      flex-wrap:wrap;\n",
              "      gap: 12px;\n",
              "    }\n",
              "\n",
              "    .colab-df-convert {\n",
              "      background-color: #E8F0FE;\n",
              "      border: none;\n",
              "      border-radius: 50%;\n",
              "      cursor: pointer;\n",
              "      display: none;\n",
              "      fill: #1967D2;\n",
              "      height: 32px;\n",
              "      padding: 0 0 0 0;\n",
              "      width: 32px;\n",
              "    }\n",
              "\n",
              "    .colab-df-convert:hover {\n",
              "      background-color: #E2EBFA;\n",
              "      box-shadow: 0px 1px 2px rgba(60, 64, 67, 0.3), 0px 1px 3px 1px rgba(60, 64, 67, 0.15);\n",
              "      fill: #174EA6;\n",
              "    }\n",
              "\n",
              "    [theme=dark] .colab-df-convert {\n",
              "      background-color: #3B4455;\n",
              "      fill: #D2E3FC;\n",
              "    }\n",
              "\n",
              "    [theme=dark] .colab-df-convert:hover {\n",
              "      background-color: #434B5C;\n",
              "      box-shadow: 0px 1px 3px 1px rgba(0, 0, 0, 0.15);\n",
              "      filter: drop-shadow(0px 1px 2px rgba(0, 0, 0, 0.3));\n",
              "      fill: #FFFFFF;\n",
              "    }\n",
              "  </style>\n",
              "\n",
              "      <script>\n",
              "        const buttonEl =\n",
              "          document.querySelector('#df-d805e9db-9ed2-4ead-9ce7-c71641ceaf17 button.colab-df-convert');\n",
              "        buttonEl.style.display =\n",
              "          google.colab.kernel.accessAllowed ? 'block' : 'none';\n",
              "\n",
              "        async function convertToInteractive(key) {\n",
              "          const element = document.querySelector('#df-d805e9db-9ed2-4ead-9ce7-c71641ceaf17');\n",
              "          const dataTable =\n",
              "            await google.colab.kernel.invokeFunction('convertToInteractive',\n",
              "                                                     [key], {});\n",
              "          if (!dataTable) return;\n",
              "\n",
              "          const docLinkHtml = 'Like what you see? Visit the ' +\n",
              "            '<a target=\"_blank\" href=https://colab.research.google.com/notebooks/data_table.ipynb>data table notebook</a>'\n",
              "            + ' to learn more about interactive tables.';\n",
              "          element.innerHTML = '';\n",
              "          dataTable['output_type'] = 'display_data';\n",
              "          await google.colab.output.renderOutput(dataTable, element);\n",
              "          const docLink = document.createElement('div');\n",
              "          docLink.innerHTML = docLinkHtml;\n",
              "          element.appendChild(docLink);\n",
              "        }\n",
              "      </script>\n",
              "    </div>\n",
              "  </div>\n",
              "  "
            ],
            "text/plain": [
              "       1 - Qquente   1 - Qfrio\n",
              "1       333.857218  335.476438\n",
              "2       333.857218  335.476438\n",
              "3       333.857218  335.476438\n",
              "4       333.857218  335.476438\n",
              "5       333.857218  335.476438\n",
              "...            ...         ...\n",
              "90716   542.784704  553.001323\n",
              "90717   542.784704  553.001323\n",
              "90718   542.784704  553.001323\n",
              "90719   542.784704  553.001323\n",
              "90720   542.784704  553.001323\n",
              "\n",
              "[90720 rows x 2 columns]"
            ]
          },
          "execution_count": 73,
          "metadata": {},
          "output_type": "execute_result"
        }
      ],
      "source": [
        "# Calculando a taxa de calor trocada (Q) para o primeiro trocador de calor, no lado quente e frio.\n",
        "dados_U['1 - Qquente']=dados_U['1 - m.CpmedioQuente']*(dados_U['1 - Cerveja In - Temperature']-5.47)\n",
        "dados_U['1 - Qfrio']=dados_U['1 - m.CpmedioFrio']*(dados_U['1 - Etanol Out - Temperature']-dados_U['1 - Etanol In - Temperature'])\n",
        "dados_U[['1 - Qquente','1 - Qfrio']]"
      ]
    },
    {
      "cell_type": "code",
      "execution_count": null,
      "metadata": {
        "colab": {
          "base_uri": "https://localhost:8080/",
          "height": 424
        },
        "id": "bK6RxKpnPoWS",
        "outputId": "7b2555d9-d75e-4d01-9e88-0761386af3fd"
      },
      "outputs": [
        {
          "data": {
            "text/html": [
              "\n",
              "  <div id=\"df-59e735bd-03ff-4d2c-b2dd-6167478142de\">\n",
              "    <div class=\"colab-df-container\">\n",
              "      <div>\n",
              "<style scoped>\n",
              "    .dataframe tbody tr th:only-of-type {\n",
              "        vertical-align: middle;\n",
              "    }\n",
              "\n",
              "    .dataframe tbody tr th {\n",
              "        vertical-align: top;\n",
              "    }\n",
              "\n",
              "    .dataframe thead th {\n",
              "        text-align: right;\n",
              "    }\n",
              "</style>\n",
              "<table border=\"1\" class=\"dataframe\">\n",
              "  <thead>\n",
              "    <tr style=\"text-align: right;\">\n",
              "      <th></th>\n",
              "      <th>1 - deltaTmax</th>\n",
              "      <th>2 - deltaTmax</th>\n",
              "    </tr>\n",
              "  </thead>\n",
              "  <tbody>\n",
              "    <tr>\n",
              "      <th>1</th>\n",
              "      <td>11.862</td>\n",
              "      <td>8.286</td>\n",
              "    </tr>\n",
              "    <tr>\n",
              "      <th>2</th>\n",
              "      <td>11.862</td>\n",
              "      <td>8.286</td>\n",
              "    </tr>\n",
              "    <tr>\n",
              "      <th>3</th>\n",
              "      <td>11.862</td>\n",
              "      <td>8.086</td>\n",
              "    </tr>\n",
              "    <tr>\n",
              "      <th>4</th>\n",
              "      <td>11.862</td>\n",
              "      <td>8.086</td>\n",
              "    </tr>\n",
              "    <tr>\n",
              "      <th>5</th>\n",
              "      <td>11.862</td>\n",
              "      <td>7.886</td>\n",
              "    </tr>\n",
              "    <tr>\n",
              "      <th>...</th>\n",
              "      <td>...</td>\n",
              "      <td>...</td>\n",
              "    </tr>\n",
              "    <tr>\n",
              "      <th>90716</th>\n",
              "      <td>14.462</td>\n",
              "      <td>8.286</td>\n",
              "    </tr>\n",
              "    <tr>\n",
              "      <th>90717</th>\n",
              "      <td>14.462</td>\n",
              "      <td>8.086</td>\n",
              "    </tr>\n",
              "    <tr>\n",
              "      <th>90718</th>\n",
              "      <td>14.462</td>\n",
              "      <td>8.086</td>\n",
              "    </tr>\n",
              "    <tr>\n",
              "      <th>90719</th>\n",
              "      <td>14.462</td>\n",
              "      <td>7.886</td>\n",
              "    </tr>\n",
              "    <tr>\n",
              "      <th>90720</th>\n",
              "      <td>14.462</td>\n",
              "      <td>7.886</td>\n",
              "    </tr>\n",
              "  </tbody>\n",
              "</table>\n",
              "<p>90720 rows × 2 columns</p>\n",
              "</div>\n",
              "      <button class=\"colab-df-convert\" onclick=\"convertToInteractive('df-59e735bd-03ff-4d2c-b2dd-6167478142de')\"\n",
              "              title=\"Convert this dataframe to an interactive table.\"\n",
              "              style=\"display:none;\">\n",
              "        \n",
              "  <svg xmlns=\"http://www.w3.org/2000/svg\" height=\"24px\"viewBox=\"0 0 24 24\"\n",
              "       width=\"24px\">\n",
              "    <path d=\"M0 0h24v24H0V0z\" fill=\"none\"/>\n",
              "    <path d=\"M18.56 5.44l.94 2.06.94-2.06 2.06-.94-2.06-.94-.94-2.06-.94 2.06-2.06.94zm-11 1L8.5 8.5l.94-2.06 2.06-.94-2.06-.94L8.5 2.5l-.94 2.06-2.06.94zm10 10l.94 2.06.94-2.06 2.06-.94-2.06-.94-.94-2.06-.94 2.06-2.06.94z\"/><path d=\"M17.41 7.96l-1.37-1.37c-.4-.4-.92-.59-1.43-.59-.52 0-1.04.2-1.43.59L10.3 9.45l-7.72 7.72c-.78.78-.78 2.05 0 2.83L4 21.41c.39.39.9.59 1.41.59.51 0 1.02-.2 1.41-.59l7.78-7.78 2.81-2.81c.8-.78.8-2.07 0-2.86zM5.41 20L4 18.59l7.72-7.72 1.47 1.35L5.41 20z\"/>\n",
              "  </svg>\n",
              "      </button>\n",
              "      \n",
              "  <style>\n",
              "    .colab-df-container {\n",
              "      display:flex;\n",
              "      flex-wrap:wrap;\n",
              "      gap: 12px;\n",
              "    }\n",
              "\n",
              "    .colab-df-convert {\n",
              "      background-color: #E8F0FE;\n",
              "      border: none;\n",
              "      border-radius: 50%;\n",
              "      cursor: pointer;\n",
              "      display: none;\n",
              "      fill: #1967D2;\n",
              "      height: 32px;\n",
              "      padding: 0 0 0 0;\n",
              "      width: 32px;\n",
              "    }\n",
              "\n",
              "    .colab-df-convert:hover {\n",
              "      background-color: #E2EBFA;\n",
              "      box-shadow: 0px 1px 2px rgba(60, 64, 67, 0.3), 0px 1px 3px 1px rgba(60, 64, 67, 0.15);\n",
              "      fill: #174EA6;\n",
              "    }\n",
              "\n",
              "    [theme=dark] .colab-df-convert {\n",
              "      background-color: #3B4455;\n",
              "      fill: #D2E3FC;\n",
              "    }\n",
              "\n",
              "    [theme=dark] .colab-df-convert:hover {\n",
              "      background-color: #434B5C;\n",
              "      box-shadow: 0px 1px 3px 1px rgba(0, 0, 0, 0.15);\n",
              "      filter: drop-shadow(0px 1px 2px rgba(0, 0, 0, 0.3));\n",
              "      fill: #FFFFFF;\n",
              "    }\n",
              "  </style>\n",
              "\n",
              "      <script>\n",
              "        const buttonEl =\n",
              "          document.querySelector('#df-59e735bd-03ff-4d2c-b2dd-6167478142de button.colab-df-convert');\n",
              "        buttonEl.style.display =\n",
              "          google.colab.kernel.accessAllowed ? 'block' : 'none';\n",
              "\n",
              "        async function convertToInteractive(key) {\n",
              "          const element = document.querySelector('#df-59e735bd-03ff-4d2c-b2dd-6167478142de');\n",
              "          const dataTable =\n",
              "            await google.colab.kernel.invokeFunction('convertToInteractive',\n",
              "                                                     [key], {});\n",
              "          if (!dataTable) return;\n",
              "\n",
              "          const docLinkHtml = 'Like what you see? Visit the ' +\n",
              "            '<a target=\"_blank\" href=https://colab.research.google.com/notebooks/data_table.ipynb>data table notebook</a>'\n",
              "            + ' to learn more about interactive tables.';\n",
              "          element.innerHTML = '';\n",
              "          dataTable['output_type'] = 'display_data';\n",
              "          await google.colab.output.renderOutput(dataTable, element);\n",
              "          const docLink = document.createElement('div');\n",
              "          docLink.innerHTML = docLinkHtml;\n",
              "          element.appendChild(docLink);\n",
              "        }\n",
              "      </script>\n",
              "    </div>\n",
              "  </div>\n",
              "  "
            ],
            "text/plain": [
              "       1 - deltaTmax  2 - deltaTmax\n",
              "1             11.862          8.286\n",
              "2             11.862          8.286\n",
              "3             11.862          8.086\n",
              "4             11.862          8.086\n",
              "5             11.862          7.886\n",
              "...              ...            ...\n",
              "90716         14.462          8.286\n",
              "90717         14.462          8.086\n",
              "90718         14.462          8.086\n",
              "90719         14.462          7.886\n",
              "90720         14.462          7.886\n",
              "\n",
              "[90720 rows x 2 columns]"
            ]
          },
          "execution_count": 74,
          "metadata": {},
          "output_type": "execute_result"
        }
      ],
      "source": [
        "# calculo o delta máximo da temperatura entre as correntes(Tq,e-Tf,e). Para ambos os trocadores. \n",
        "dados_U['1 - deltaTmax']=dados_U['1 - Cerveja In - Temperature']-dados_U['1 - Etanol In - Temperature']\n",
        "dados_U['2 - deltaTmax']=5.47-dados_U['2 - Etanol In - Temperature']\n",
        "dados_U[['1 - deltaTmax','2 - deltaTmax']]"
      ]
    },
    {
      "cell_type": "code",
      "execution_count": null,
      "metadata": {
        "colab": {
          "base_uri": "https://localhost:8080/"
        },
        "id": "D6V9-xENP5ch",
        "outputId": "9808aa94-4a12-494c-e787-72e5e9f4c300"
      },
      "outputs": [
        {
          "data": {
            "text/plain": [
              "1        77.558590\n",
              "2        77.558590\n",
              "3        77.558590\n",
              "4        77.558590\n",
              "5        77.558590\n",
              "           ...    \n",
              "90716    85.741944\n",
              "90717    85.741944\n",
              "90718    85.741944\n",
              "90719    85.741944\n",
              "90720    85.741944\n",
              "Name: 1 - EficiênciaQuente, Length: 90720, dtype: float64"
            ]
          },
          "execution_count": 75,
          "metadata": {},
          "output_type": "execute_result"
        }
      ],
      "source": [
        "# Calculando a taxa máxima de calor de troca (Qmáx) \n",
        "dados_U['1 - dadosQmaxquente'] = dados_U['1 - m.CpmedioQuente']*dados_U['1 - deltaTmax']\n",
        "# Calculando a Eficiência(%) do primeiro trocador de calor: E = Q / Qmáx \n",
        "dados_U['1 - EficiênciaQuente'] = 100*dados_U['1 - Qquente']/dados_U['1 - dadosQmaxquente']\n",
        "dados_U['1 - EficiênciaQuente']   "
      ]
    },
    {
      "cell_type": "code",
      "execution_count": null,
      "metadata": {
        "colab": {
          "base_uri": "https://localhost:8080/"
        },
        "id": "v19Eg8_1QFFA",
        "outputId": "47728bf8-532b-465f-cf01-07a5057d6bb3"
      },
      "outputs": [
        {
          "name": "stdout",
          "output_type": "stream",
          "text": [
            "AxesSubplot(0.125,0.125;0.775x0.755)\n"
          ]
        },
        {
          "data": {
            "image/png": "[encoded data removed]",
            "text/plain": [
              "<Figure size 432x288 with 1 Axes>"
            ]
          },
          "metadata": {},
          "output_type": "display_data"
        }
      ],
      "source": [
        "# A eficiência com a variação da temperatura do etanol na entrada. \n",
        "dados_Ue=dados_U.drop_duplicates(subset=['1 - Etanol In - Temperature']) # Retirando linhas duplicadas da temperatura de etanol. \n",
        "print(sns.scatterplot('1 - Etanol In - Temperature','1 - EficiênciaQuente',data=dados_Ue,\n",
        "                      color='green',marker='o',legend='full',alpha=1))\n",
        "#plt.ylim([77,max(dados_Ue['1 - EficiênciaQuente']+1)])\n",
        "plt.xlabel(r'Temperature $[°C]$') # Nome do eixo abscissa (x).\n",
        "plt.ylabel(r'Eficiência [%]') # Nome do eixo ordenada (y).\n",
        "plt.savefig('1 - Etanol In - Temperature EFIC.pdf', \n",
        "           transparent=True) # Salvando a figura em pdf."
      ]
    },
    {
      "cell_type": "code",
      "execution_count": null,
      "metadata": {
        "colab": {
          "base_uri": "https://localhost:8080/"
        },
        "id": "7aUniDxHQVhp",
        "outputId": "fff62599-d943-4a73-deda-db648acf4693"
      },
      "outputs": [
        {
          "name": "stdout",
          "output_type": "stream",
          "text": [
            "AxesSubplot(0.125,0.125;0.775x0.755)\n"
          ]
        },
        {
          "data": {
            "image/png": "[encoded data removed]",
            "text/plain": [
              "<Figure size 432x288 with 1 Axes>"
            ]
          },
          "metadata": {},
          "output_type": "display_data"
        }
      ],
      "source": [
        "# A eficiência com a variação da temperatura da cerveja na entrada. \n",
        "dados_Ue1=dados_U.drop_duplicates(subset=['1 - Cerveja In - Temperature']) # Retirando linhas duplicadas da temperatura da cerveja. \n",
        "print(sns.scatterplot('1 - Cerveja In - Temperature','1 - EficiênciaQuente',data=dados_Ue1,\n",
        "                      color='green',marker='o',legend='full',alpha=1))\n",
        "#plt.ylim([0,90])\n",
        "plt.xlabel(r'Temperature $[°C]$') # Nome do eixo abscissa (x).\n",
        "plt.ylabel(r'Eficiência [%]') # Nome do eixo ordenada (y).\n",
        "plt.savefig('1 - Cerveja In - Temperature EFIC.pdf', \n",
        "           transparent=True) # Salvando a figura em pdf."
      ]
    },
    {
      "cell_type": "code",
      "execution_count": null,
      "metadata": {
        "colab": {
          "base_uri": "https://localhost:8080/"
        },
        "id": "5oCSUYIWQpf2",
        "outputId": "98b7ce5f-ef58-4374-de74-4d9007ead97c"
      },
      "outputs": [
        {
          "name": "stdout",
          "output_type": "stream",
          "text": [
            "AxesSubplot(0.125,0.125;0.775x0.755)\n"
          ]
        },
        {
          "data": {
            "image/png": "[encoded data removed]",
            "text/plain": [
              "<Figure size 432x288 with 1 Axes>"
            ]
          },
          "metadata": {},
          "output_type": "display_data"
        }
      ],
      "source": [
        "# A eficiência com a variação da vazão mássica do etanol na saída. \n",
        "dados_Ue2=dados_U.drop_duplicates(subset=['1 - Etanol Out - Mass Flow']) # Retirando linhas duplicadas da vazão mássica do etanol na saída. \n",
        "print(sns.scatterplot('1 - Etanol Out - Mass Flow','1 - EficiênciaQuente',data=dados_Ue2,\n",
        "                      color='green',marker='o',legend='full',alpha=1))\n",
        "plt.xlabel(r'Mass Flow $[\\frac{kg}{s}]$') # Nome do eixo abscissa (x).\n",
        "plt.ylabel(r'Eficiência [%]') # Nome do eixo ordenada (y).\n",
        "plt.savefig('1 - Etanol Out - Mass Flow EFIC.pdf', \n",
        "           transparent=True) # Salvando a figura em pdf."
      ]
    },
    {
      "cell_type": "code",
      "execution_count": null,
      "metadata": {
        "colab": {
          "base_uri": "https://localhost:8080/"
        },
        "id": "p4KfumuURHtz",
        "outputId": "050e5576-20e3-44fa-b811-6288398d9ca7"
      },
      "outputs": [
        {
          "name": "stdout",
          "output_type": "stream",
          "text": [
            "11.930000000000003 77.55859045692125 1\n",
            "12.83 78.88869833647745 7\n",
            "13.960000000000006 80.26522421915895 13\n",
            "15.4 81.69064109394422 19\n",
            "16.17 82.31864174241126 1027\n",
            "16.98 82.904990880451 2035\n",
            "17.82 83.45369924570694 3043\n",
            "18.73 83.96827865028767 4051\n",
            "19.65 84.45181722213844 5059\n",
            "20.65 84.90704142878057 6067\n",
            "21.7 85.33636751528944 7075\n",
            "22.82 85.7419444060296 8083\n",
            "34.28 85.74194440602962 44371\n"
          ]
        }
      ],
      "source": [
        "# Melhores valores da vazão mássica de etanol no primeiro trocador de calor combinada com a eficiência.\n",
        "p=0\n",
        "mass=[]\n",
        "efi =[]\n",
        "for j,k in enumerate(dados_U['1 - EficiênciaQuente']):\n",
        "  if k>p:\n",
        "    p=k\n",
        "    b=dados_Ue2['1 - Etanol Out - Mass Flow'][1+j]\n",
        "    mass.append(b)\n",
        "    efi.append(k)\n",
        "    print(b,k,1+j)"
      ]
    },
    {
      "cell_type": "code",
      "execution_count": null,
      "metadata": {
        "colab": {
          "base_uri": "https://localhost:8080/"
        },
        "id": "x53dXeAJRUs-",
        "outputId": "47d89899-a315-440a-cec0-9babef500686"
      },
      "outputs": [
        {
          "name": "stdout",
          "output_type": "stream",
          "text": [
            "AxesSubplot(0.125,0.125;0.775x0.755)\n"
          ]
        },
        {
          "data": {
            "image/png": "[encoded data removed]",
            "text/plain": [
              "<Figure size 432x288 with 1 Axes>"
            ]
          },
          "metadata": {},
          "output_type": "display_data"
        }
      ],
      "source": [
        "# Plotando o gráfico de melhor eficiencia combinado com a vazão mássica de etanol.\n",
        "from matplotlib.patches import Circle\n",
        "from matplotlib.lines import Line2D\n",
        "print(sns.scatterplot(x=mass,y=efi,\n",
        "                      color='green',marker='o',legend='full',alpha=1))\n",
        "plt.xlabel(r'Mass Flow $[\\frac{kg}{s}]$') # Nome do eixo abscissa (x).\n",
        "plt.ylabel(r'Eficiência [%]') # Nome do eixo ordenada (y).\n",
        "plt.gca().margins(0.1)\n",
        "\n",
        "cir = Circle((22.82, 85.7419444060296),0.3,color='red',lw=1,fill=False,zorder=10)\n",
        "red_circle = Line2D([], [], marker='o', color='r',\n",
        "                        markerfacecolor='w',lw=0, markersize=7),\n",
        "\n",
        "plt.gca().add_patch(cir)\n",
        "plt.legend([red_circle],[r'Melhor Ponto'],loc='right')\n",
        "plt.savefig('1 - Etanol Out - Mass Flow EFIC.pdf', \n",
        "           transparent=True) # Salvando a figura em pdf."
      ]
    },
    {
      "cell_type": "code",
      "execution_count": null,
      "metadata": {
        "colab": {
          "base_uri": "https://localhost:8080/"
        },
        "id": "gSy-9kzjq4Go",
        "outputId": "4d970feb-2ed3-48a7-c6ed-89d1c5fdc583"
      },
      "outputs": [
        {
          "data": {
            "text/html": [
              "\n",
              "  <div id=\"df-06677c49-f50c-4c8c-b7ae-bca39dd5c14a\">\n",
              "    <div class=\"colab-df-container\">\n",
              "      <div>\n",
              "<style scoped>\n",
              "    .dataframe tbody tr th:only-of-type {\n",
              "        vertical-align: middle;\n",
              "    }\n",
              "\n",
              "    .dataframe tbody tr th {\n",
              "        vertical-align: top;\n",
              "    }\n",
              "\n",
              "    .dataframe thead th {\n",
              "        text-align: right;\n",
              "    }\n",
              "</style>\n",
              "<table border=\"1\" class=\"dataframe\">\n",
              "  <thead>\n",
              "    <tr style=\"text-align: right;\">\n",
              "      <th></th>\n",
              "      <th>1 - Cerveja In - Mass Flow</th>\n",
              "      <th>1 - Cerveja In - Temperature</th>\n",
              "      <th>1 - Cerveja In - Pressure</th>\n",
              "      <th>1 - Etanol In - Temperature</th>\n",
              "      <th>1 - Etanol In - Pressure</th>\n",
              "      <th>1º Trocador de placa - Heat Transfer Coefficient</th>\n",
              "      <th>1 - Etanol Out - Temperature</th>\n",
              "      <th>1 - Etanol Out - Mass Flow</th>\n",
              "      <th>1 - EficiênciaQuente</th>\n",
              "    </tr>\n",
              "  </thead>\n",
              "  <tbody>\n",
              "    <tr>\n",
              "      <th>8083</th>\n",
              "      <td>8.838</td>\n",
              "      <td>17.87</td>\n",
              "      <td>2.997</td>\n",
              "      <td>3.408</td>\n",
              "      <td>2.664</td>\n",
              "      <td>3216.0</td>\n",
              "      <td>8.5</td>\n",
              "      <td>22.82</td>\n",
              "      <td>85.741944</td>\n",
              "    </tr>\n",
              "  </tbody>\n",
              "</table>\n",
              "</div>\n",
              "      <button class=\"colab-df-convert\" onclick=\"convertToInteractive('df-06677c49-f50c-4c8c-b7ae-bca39dd5c14a')\"\n",
              "              title=\"Convert this dataframe to an interactive table.\"\n",
              "              style=\"display:none;\">\n",
              "        \n",
              "  <svg xmlns=\"http://www.w3.org/2000/svg\" height=\"24px\"viewBox=\"0 0 24 24\"\n",
              "       width=\"24px\">\n",
              "    <path d=\"M0 0h24v24H0V0z\" fill=\"none\"/>\n",
              "    <path d=\"M18.56 5.44l.94 2.06.94-2.06 2.06-.94-2.06-.94-.94-2.06-.94 2.06-2.06.94zm-11 1L8.5 8.5l.94-2.06 2.06-.94-2.06-.94L8.5 2.5l-.94 2.06-2.06.94zm10 10l.94 2.06.94-2.06 2.06-.94-2.06-.94-.94-2.06-.94 2.06-2.06.94z\"/><path d=\"M17.41 7.96l-1.37-1.37c-.4-.4-.92-.59-1.43-.59-.52 0-1.04.2-1.43.59L10.3 9.45l-7.72 7.72c-.78.78-.78 2.05 0 2.83L4 21.41c.39.39.9.59 1.41.59.51 0 1.02-.2 1.41-.59l7.78-7.78 2.81-2.81c.8-.78.8-2.07 0-2.86zM5.41 20L4 18.59l7.72-7.72 1.47 1.35L5.41 20z\"/>\n",
              "  </svg>\n",
              "      </button>\n",
              "      \n",
              "  <style>\n",
              "    .colab-df-container {\n",
              "      display:flex;\n",
              "      flex-wrap:wrap;\n",
              "      gap: 12px;\n",
              "    }\n",
              "\n",
              "    .colab-df-convert {\n",
              "      background-color: #E8F0FE;\n",
              "      border: none;\n",
              "      border-radius: 50%;\n",
              "      cursor: pointer;\n",
              "      display: none;\n",
              "      fill: #1967D2;\n",
              "      height: 32px;\n",
              "      padding: 0 0 0 0;\n",
              "      width: 32px;\n",
              "    }\n",
              "\n",
              "    .colab-df-convert:hover {\n",
              "      background-color: #E2EBFA;\n",
              "      box-shadow: 0px 1px 2px rgba(60, 64, 67, 0.3), 0px 1px 3px 1px rgba(60, 64, 67, 0.15);\n",
              "      fill: #174EA6;\n",
              "    }\n",
              "\n",
              "    [theme=dark] .colab-df-convert {\n",
              "      background-color: #3B4455;\n",
              "      fill: #D2E3FC;\n",
              "    }\n",
              "\n",
              "    [theme=dark] .colab-df-convert:hover {\n",
              "      background-color: #434B5C;\n",
              "      box-shadow: 0px 1px 3px 1px rgba(0, 0, 0, 0.15);\n",
              "      filter: drop-shadow(0px 1px 2px rgba(0, 0, 0, 0.3));\n",
              "      fill: #FFFFFF;\n",
              "    }\n",
              "  </style>\n",
              "\n",
              "      <script>\n",
              "        const buttonEl =\n",
              "          document.querySelector('#df-06677c49-f50c-4c8c-b7ae-bca39dd5c14a button.colab-df-convert');\n",
              "        buttonEl.style.display =\n",
              "          google.colab.kernel.accessAllowed ? 'block' : 'none';\n",
              "\n",
              "        async function convertToInteractive(key) {\n",
              "          const element = document.querySelector('#df-06677c49-f50c-4c8c-b7ae-bca39dd5c14a');\n",
              "          const dataTable =\n",
              "            await google.colab.kernel.invokeFunction('convertToInteractive',\n",
              "                                                     [key], {});\n",
              "          if (!dataTable) return;\n",
              "\n",
              "          const docLinkHtml = 'Like what you see? Visit the ' +\n",
              "            '<a target=\"_blank\" href=https://colab.research.google.com/notebooks/data_table.ipynb>data table notebook</a>'\n",
              "            + ' to learn more about interactive tables.';\n",
              "          element.innerHTML = '';\n",
              "          dataTable['output_type'] = 'display_data';\n",
              "          await google.colab.output.renderOutput(dataTable, element);\n",
              "          const docLink = document.createElement('div');\n",
              "          docLink.innerHTML = docLinkHtml;\n",
              "          element.appendChild(docLink);\n",
              "        }\n",
              "      </script>\n",
              "    </div>\n",
              "  </div>\n",
              "  "
            ],
            "text/plain": [
              "      1 - Cerveja In - Mass Flow  1 - Cerveja In - Temperature  \\\n",
              "8083                       8.838                         17.87   \n",
              "\n",
              "      1 - Cerveja In - Pressure  1 - Etanol In - Temperature  \\\n",
              "8083                      2.997                        3.408   \n",
              "\n",
              "      1 - Etanol In - Pressure  \\\n",
              "8083                     2.664   \n",
              "\n",
              "      1º Trocador de placa - Heat Transfer Coefficient  \\\n",
              "8083                                            3216.0   \n",
              "\n",
              "      1 - Etanol Out - Temperature  1 - Etanol Out - Mass Flow  \\\n",
              "8083                           8.5                       22.82   \n",
              "\n",
              "      1 - EficiênciaQuente  \n",
              "8083             85.741944  "
            ]
          },
          "execution_count": 81,
          "metadata": {},
          "output_type": "execute_result"
        }
      ],
      "source": [
        "# Descrição das correntes no melhor ponto de eficiência, no primeiro trocador de calor.\n",
        "dados_Ue2[['1 - Cerveja In - Mass Flow','1 - Cerveja In - Temperature','1 - Cerveja In - Pressure','1 - Etanol In - Temperature',\n",
        "           '1 - Etanol In - Pressure','1º Trocador de placa - Heat Transfer Coefficient',\n",
        "           '1 - Etanol Out - Temperature','1 - Etanol Out - Mass Flow','1 - EficiênciaQuente']].loc[8083:8083]"
      ]
    },
    {
      "cell_type": "code",
      "execution_count": null,
      "metadata": {
        "id": "DoC90m_-cQAW"
      },
      "outputs": [],
      "source": [
        "# Separando os dados em treino e teste, no qual separou-se 33% para teste e 67% para treino:\n",
        "\n",
        "x_train, x_test, Y_train, Y_test = train_test_split( dadosX, dados_y2, test_size=0.33, random_state=42)"
      ]
    },
    {
      "cell_type": "code",
      "execution_count": null,
      "metadata": {
        "colab": {
          "background_save": true,
          "base_uri": "https://localhost:8080/"
        },
        "id": "ur6OVpXx3Slu",
        "outputId": "7a3b46b4-0e62-4509-88f4-6a70e59d86fd"
      },
      "outputs": [
        {
          "name": "stdout",
          "output_type": "stream",
          "text": [
            "Modelo: LinearRegression |Valores do Score: [0.88893077 0.88865784 0.88906141 0.88722446]|Valores dos coeficientes: [ 1.04785574e+01  5.34824705e-03 -4.07704934e-02 -2.42597825e-04\n",
            " -2.91910505e-02  2.56629902e+01  1.31929699e-01] |Intercept: -12.451805322833767 | Média: 0.888468620383359 | Desvio: 0.000732925391591719 | Mean squared error (MSE): 6.718769956029299 \n",
            "Training set score: 0.888503696109894\n",
            "Test set score: 0.8873080750214497\n",
            "Legend\n",
            "\n",
            "Tempo do modelo de regressão linear: 0.19715571403503418 seg\n",
            "Modelo: MLPRegressor |Valores do Score: [0.88832074 0.99934543 0.99967151 0.99973005] | Média: 0.971766932799786 | Desvio: 0.048177905362899044 | Mean squared error (MSE): 0.24162999093558682 \n",
            "Training set score: 0.9960669135442269\n",
            "Test set score: 0.9959472122145445\n",
            "Legend\n",
            "\n",
            "Tempo do modelo MLPRegessor: 370.60986709594727 seg\n",
            "Modelo: DecisionTreeRegressor |Valores do Score: [1. 1. 1. 1.]|Valores dos coeficientes: [6.46022038e-01 2.09967072e-13 9.42668592e-14 1.11120555e-13\n",
            " 8.97204730e-14 3.53928599e-01 4.93621157e-05] | Média: 1.0 | Desvio: 0.0 | Mean squared error (MSE): 8.507306394187808e-26 \n",
            "Training set score: 1.0\n",
            "Test set score: 1.0\n",
            "1 - Cerveja In - Mass Flow 0.6460220383995705\n",
            "2 - Etanol In - Temperature 0.3539285994842068\n",
            "2 - Etanol In - Pressure 4.936211571753629e-05\n",
            "1 - Cerveja In - Temperature 2.0996707173104408e-13\n",
            "1 - Etanol In - Pressure 1.1112055474382191e-13\n",
            "1 - Cerveja In - Pressure 9.426685922714697e-14\n",
            "1 - Etanol In - Temperature 8.972047299571722e-14\n",
            "Legend\n",
            "\n",
            "Tempo do modelo da arvore de decisão: 0.38413119316101074 seg\n"
          ]
        },
        {
          "data": {
            "image/png": "[encoded data removed]",
            "text/plain": [
              "<Figure size 432x288 with 1 Axes>"
            ]
          },
          "metadata": {},
          "output_type": "display_data"
        }
      ],
      "source": [
        "# conjunto de modelos\n",
        "\n",
        "models1 = [LinearRegression(), MLPRegressor(),DecisionTreeRegressor()]\n",
        "kfold = KFold(n_splits=4, shuffle=True, random_state=42)\n",
        "\n",
        "# Lista dos nomes das variáveis importantes.\n",
        "\n",
        "nome_features2 = []\n",
        "\n",
        "# Lista dos valores das variáveis importantes.\n",
        "\n",
        "features2 = []\n",
        "\n",
        "\n",
        "for model2 in models1: # Aplicando em cada modelo as regras.\n",
        "    inicio = time.time()\n",
        "    val_scores = cross_val_score(model2,x_train, Y_train, cv=kfold) # Aplicando ao modelo uma validação cruzada nos dados de treino.\n",
        "    nome_modelo = type(model2).__name__ # Somente para exibição.\n",
        "    model2.fit(x_train, Y_train) # Ajustando o modelo de treino.\n",
        "    y_pred = model2.predict(x_test) # Predizendo a variável target utilizando o dado de teste.\n",
        "\n",
        "    if models1[0]==model2: # Se o modelo é de regressão linear aplica-se essas regras.\n",
        "      print('Modelo: {} |Valores do Score: {}|Valores dos coeficientes: {} |Intercept: {} | Média: {} | Desvio: {} | Mean squared error (MSE): {} '.format(nome_modelo,val_scores,model2.coef_,model2.intercept_,\n",
        "                                   np.mean(val_scores), np.std(val_scores),mean_squared_error(Y_test,y_pred)))\n",
        "      print(\"Training set score: {}\".format(model2.score(x_train, Y_train))) # Coeficiente de determinação do treino.\n",
        "      print(\"Test set score: {}\".format(model2.score(x_test, Y_test))) # Coeficiente de determinação do test.\n",
        "      media_scores4=np.mean(val_scores) # Média do coeficiente de determinação dos valores da validação cruzada.\n",
        "      print(sns.scatterplot(Y_test,y_pred,color='blue',\n",
        "                            marker='o',legend='full',alpha=1,\n",
        "                            label= r\"Linear Regression - $R^2: {:.3f}$\".format(media_scores4)).legend(loc=\"best\"))\n",
        "                            # Plotando o modelo Regressão Linear.\n",
        "      fim = time.time()\n",
        "      tempoRL= fim-inicio\n",
        "      print('\\nTempo do modelo de regressão linear: {} seg'.format(tempoRL))\n",
        "\n",
        "    elif models1[1]==model2: # Se o modelo é de Perceptron Múltiplas Camadas aplica-se essas regras.\n",
        "      print('Modelo: {} |Valores do Score: {} | Média: {} | Desvio: {} | Mean squared error (MSE): {} '.format(nome_modelo,val_scores,\n",
        "                                   np.mean(val_scores), np.std(val_scores),mean_squared_error(Y_test,y_pred)))\n",
        "      print(\"Training set score: {}\".format(model2.score(x_train, Y_train))) # Coeficiente de determinação do treino.\n",
        "      print(\"Test set score: {}\".format(model2.score(x_test, Y_test)))\n",
        "      media_scores5=np.mean(val_scores) # Média do coeficiente de determinação dos valores da validação cruzada.\n",
        "      print(sns.scatterplot(Y_test,y_pred,color='green',\n",
        "                            marker='o',legend='full',alpha=1,\n",
        "                            label= r\"MLPRegressor - $R^2: {:.3f}$\".format(media_scores5)).legend(loc=\"best\"))\n",
        "                            # Plotando o modelo MLPRegressor.\n",
        "      fim = time.time()\n",
        "      tempoMLP= fim-inicio\n",
        "      print('\\nTempo do modelo MLPRegessor: {} seg'.format(tempoMLP))\n",
        "\n",
        "    elif models1[2]==model2: # Se o modelo é de Árvore de Decisão aplica-se essas regras.\n",
        "      print('Modelo: {} |Valores do Score: {}|Valores dos coeficientes: {} | Média: {} | Desvio: {} | Mean squared error (MSE): {} '.format(nome_modelo,val_scores,model2.feature_importances_,\n",
        "                                   np.mean(val_scores), np.std(val_scores),mean_squared_error(Y_test,y_pred)))\n",
        "      print(\"Training set score: {}\".format(model2.score(x_train, Y_train))) # Coeficiente de determinação do treino.\n",
        "      print(\"Test set score: {}\".format(model2.score(x_test, Y_test))) # Coeficiente de determinação do test.\n",
        "      for importances, names in sorted(zip(model2.feature_importances_, x_train.columns),reverse=True):\n",
        "        print (names, importances) # Printando o nome e valores das variáveis importantes.\n",
        "        nome_features2.append(names) # Guardando na lista dos nomes das variáveis importantes.\n",
        "        features2.append(importances) # Guardando na lista dos valores das variáveis importantes.\n",
        "      media_scores6=np.mean(val_scores) # Média do coeficiente de determinação dos valores da validação cruzada.\n",
        "      print(sns.scatterplot(Y_test,y_pred,color='red',\n",
        "                            marker='o',legend='full',alpha=1,\n",
        "                            label= r\"Decision Tree Regressor - $R^2: {:.3f}$\".format(media_scores6)).legend(loc=\"best\"))\n",
        "                            # Plotando o modelo Árvore de Decisão.\n",
        "      fim = time.time()\n",
        "      tempoDTR= fim-inicio\n",
        "      print('\\nTempo do modelo da arvore de decisão: {} seg'.format(tempoDTR))\n",
        "\n",
        "\n",
        "plt.xlabel(r'Vazão Mássica da Corrente Etanol (Teste/Real) $[\\frac{kg}{s}]$') # Nome do eixo abscissa (x).\n",
        "plt.ylabel(r'Vazão Mássica da Corrente Etanol (Predito) $[\\frac{kg}{s}]$') # Nome do eixo ordenada (y).\n",
        "plt.savefig('2- Etanol Out - Mass Flow.pdf', \n",
        "           transparent=True) # Salvando a figura em pdf."
      ]
    },
    {
      "cell_type": "code",
      "execution_count": null,
      "metadata": {
        "colab": {
          "background_save": true
        },
        "id": "hkfR0bhmvlUg",
        "outputId": "cc5af13a-4105-432a-d330-693cb7f1b04c"
      },
      "outputs": [
        {
          "data": {
            "text/plain": [
              "[64.6, 35.39, 0.0, 0.0, 0.0, 0.0, 0.0]"
            ]
          },
          "execution_count": 84,
          "metadata": {},
          "output_type": "execute_result"
        }
      ],
      "source": [
        "# Transformando os valores das variáveis de grau de importancia do modelo árvore de decisão em float.\n",
        "\n",
        "variaveis1=[]\n",
        "for i in list(features2):\n",
        "  v = float('{:.2f}'.format(i*100))\n",
        "  variaveis1.append(v)\n",
        "variaveis1"
      ]
    },
    {
      "cell_type": "code",
      "execution_count": null,
      "metadata": {
        "colab": {
          "background_save": true
        },
        "id": "M6DXQ6fHvg2l",
        "outputId": "8197b4ae-7c9b-4b0d-a5f7-e2378f0839e7"
      },
      "outputs": [
        {
          "data": {
            "image/png": "[encoded data removed]",
            "text/plain": [
              "<Figure size 576x360 with 1 Axes>"
            ]
          },
          "metadata": {},
          "output_type": "display_data"
        },
        {
          "data": {
            "text/plain": [
              "<Figure size 432x288 with 0 Axes>"
            ]
          },
          "metadata": {},
          "output_type": "display_data"
        }
      ],
      "source": [
        "# Platando o gráfico das variveis importante\n",
        "\n",
        "fake2 = pd.DataFrame({'f': variaveis1,'g': nome_features2}) # Transformando os dados em DataFrame. \n",
        "plt.figure(figsize=(8,5)) # Definindo o tamanho da figura.\n",
        "fig = sns.barplot(x = 'f', y = 'g',data=fake2,palette=\"Set1\") # Inserindo os dados do gráfico em barra.\n",
        "for pY,pX in enumerate(variaveis1): # Colocando o rótulo no gráfico.\n",
        "  if pX!=0:\n",
        "    fig.annotate(str(pX)+'%',xy=(pX,pY)) \n",
        "fig.spines['top'].set_visible(False) # Retirando a linha superior da figura.\n",
        "fig.spines['right'].set_visible(False) # Retirando a linha à direita da figura.\n",
        "plt.xlabel(\"Feature_importance [ % ]\") # Nome do eixo abscissa (x).\n",
        "plt.ylabel(\"Feature\") # Nome do eixo ordenada (y).\n",
        "\n",
        "plt.show(fig) # Plotando somente a Figura.\n",
        "plt.savefig('2 - Feature_importance.png',dpi=300,\n",
        "           transparent=True) # Salvando a figura em png.\n"
      ]
    },
    {
      "cell_type": "code",
      "execution_count": null,
      "metadata": {
        "colab": {
          "background_save": true
        },
        "id": "IlPdkSADTblK"
      },
      "outputs": [],
      "source": [
        "# Predizendo a corrente Etanol a partir do modelo árvore de decisão, no segundo trocador de calor.\n",
        "dados_U['2 - Etanol Out - Mass Flow'] = model2.predict(dadosX)"
      ]
    },
    {
      "cell_type": "code",
      "execution_count": null,
      "metadata": {
        "colab": {
          "background_save": true
        },
        "id": "YmnajSYoTMv8"
      },
      "outputs": [],
      "source": [
        "# Calculando do produto minimo da vazão mássica e capacidade calorifica, no segundo trocador de calor.\n",
        "dados_U['2 - m.CpmedioQuente']=dados_U['2 - CpmedioQuente']*dados_U['1 - Cerveja In - Mass Flow']\n",
        "dados_U['2 - m.CpmedioFrio']=dados_U['2 - CpmedioFrio']*dados_U['2 - Etanol Out - Mass Flow']"
      ]
    },
    {
      "cell_type": "code",
      "execution_count": null,
      "metadata": {
        "colab": {
          "background_save": true
        },
        "id": "Li3upttXUSNy"
      },
      "outputs": [],
      "source": [
        "#Calculando a taxa de calor trocada (Q) para o segundo trocador de calor, no lado quente e frio.\n",
        "dados_U['2 - Qquente']=dados_U['2 - m.CpmedioQuente']*(5.47 - (-0.52))\n",
        "dados_U['2 - Qfrio']=dados_U['2 - m.CpmedioFrio']*(dados_U['2 - Etanol Out - Temperature']-dados_U['2 - Etanol In - Temperature'])"
      ]
    },
    {
      "cell_type": "code",
      "execution_count": null,
      "metadata": {
        "colab": {
          "background_save": true
        },
        "id": "aBLCoTecVKAM",
        "outputId": "d134b363-b3cb-4714-fa83-a2e0e86f7006"
      },
      "outputs": [
        {
          "data": {
            "text/plain": [
              "1        72.290611\n",
              "2        72.290611\n",
              "3        74.078654\n",
              "4        74.078654\n",
              "5        75.957393\n",
              "           ...    \n",
              "90716    72.290611\n",
              "90717    74.078654\n",
              "90718    74.078654\n",
              "90719    75.957393\n",
              "90720    75.957393\n",
              "Name: 2 - EficiênciaQuente, Length: 90720, dtype: float64"
            ]
          },
          "execution_count": 89,
          "metadata": {},
          "output_type": "execute_result"
        }
      ],
      "source": [
        "# Calculando a taxa máxima de calor de troca (Qmáx)\n",
        "dados_U['2 - dadosQmaxquente'] = dados_U['2 - m.CpmedioQuente']*dados_U['2 - deltaTmax']\n",
        "# Calculando a Eficiência(%) do segundo trocador de calor: E = Q / Qmáx \n",
        "dados_U['2 - EficiênciaQuente'] = 100*dados_U['2 - Qquente']/dados_U['2 - dadosQmaxquente']\n",
        "dados_U['2 - EficiênciaQuente'] "
      ]
    },
    {
      "cell_type": "code",
      "execution_count": null,
      "metadata": {
        "colab": {
          "background_save": true
        },
        "id": "3hI3OdUkSkI8",
        "outputId": "c13d6421-bb69-4464-ff77-3901d7550677"
      },
      "outputs": [
        {
          "name": "stdout",
          "output_type": "stream",
          "text": [
            "AxesSubplot(0.125,0.125;0.775x0.755)\n"
          ]
        },
        {
          "data": {
            "image/png": "[encoded data removed]",
            "text/plain": [
              "<Figure size 432x288 with 1 Axes>"
            ]
          },
          "metadata": {},
          "output_type": "display_data"
        }
      ],
      "source": [
        "# A eficiência com a variação da temperatura do etanol na entrada. \n",
        "dados_Ue6=dados_U.drop_duplicates(subset=['2 - Etanol In - Temperature']) # Retirando linhas duplicadas da temperatura do etanol. \n",
        "print(sns.scatterplot('2 - Etanol In - Temperature','2 - EficiênciaQuente',data=dados_Ue6,\n",
        "                      color='green',marker='o',legend='full',alpha=1))\n",
        "plt.xlabel(r'Temperature $[°C]$') # Nome do eixo abscissa (x).\n",
        "plt.ylabel(r'Eficiência [%]') # Nome do eixo ordenada (y).\n",
        "plt.savefig('2 - Etanol In - Temperature EFIC.pdf', \n",
        "           transparent=True) # Salvando a figura em pdf."
      ]
    },
    {
      "cell_type": "code",
      "execution_count": null,
      "metadata": {
        "colab": {
          "background_save": true
        },
        "id": "yNjJ9FkyVkYq",
        "outputId": "6028885e-fe03-4748-b0be-0e42b02e7a2e"
      },
      "outputs": [
        {
          "name": "stdout",
          "output_type": "stream",
          "text": [
            "AxesSubplot(0.125,0.125;0.775x0.755)\n"
          ]
        },
        {
          "data": {
            "image/png": "[encoded data removed]",
            "text/plain": [
              "<Figure size 432x288 with 1 Axes>"
            ]
          },
          "metadata": {},
          "output_type": "display_data"
        }
      ],
      "source": [
        "# A eficiência com a variação da vazão mássica do etanol na saída. \n",
        "dados_Ue7=dados_U.drop_duplicates(subset=['2 - Etanol Out - Mass Flow']) # Retirando linhas duplicadas da vazão mássica do etanol na saída. \n",
        "print(sns.scatterplot('2 - Etanol Out - Mass Flow','2 - EficiênciaQuente',data=dados_Ue7,\n",
        "                      color='green',marker='o',legend='full',alpha=1))\n",
        "plt.xlabel(r'Mass Flow $[\\frac{kg}{s}]$') # Nome do eixo abscissa (x).\n",
        "plt.ylabel(r'Eficiência [%]') # Nome do eixo ordenada (y).\n",
        "plt.savefig('2 - Etanol Out - Mass Flow EFIC.pdf', \n",
        "           transparent=True) # Salvando a figura em pdf."
      ]
    },
    {
      "cell_type": "code",
      "execution_count": null,
      "metadata": {
        "colab": {
          "background_save": true
        },
        "id": "gjX-vfmAbNAO",
        "outputId": "16aed9e5-fb88-4090-a1c0-9f2183f47df8"
      },
      "outputs": [
        {
          "name": "stdout",
          "output_type": "stream",
          "text": [
            "13.090000000000117 72.29061066859764 1\n",
            "14.879999999999672 74.07865446450656 3\n",
            "17.430000000000206 75.95739284808522 5\n",
            "22.610000000000003 75.95739284808523 27221\n"
          ]
        }
      ],
      "source": [
        "# Melhores valores da vazão mássica de etanol no primeiro trocador de calor combinada com a eficiência.\n",
        "w=0\n",
        "mass1=[]\n",
        "efi1 =[]\n",
        "for r,y in enumerate(dados_U['2 - EficiênciaQuente']):\n",
        "  if y>w:\n",
        "    w=y\n",
        "    b1=dados_Ue7['2 - Etanol Out - Mass Flow'][1+r]\n",
        "    mass1.append(b1)\n",
        "    efi1.append(w)\n",
        "    print(b1,w,1+r)"
      ]
    },
    {
      "cell_type": "code",
      "execution_count": null,
      "metadata": {
        "colab": {
          "background_save": true
        },
        "id": "Of2zn8lnbSfQ",
        "outputId": "bb185537-1bd3-48e4-abc1-ff44088272fb"
      },
      "outputs": [
        {
          "data": {
            "image/png": "[encoded data removed]",
            "text/plain": [
              "<Figure size 432x288 with 1 Axes>"
            ]
          },
          "metadata": {},
          "output_type": "display_data"
        }
      ],
      "source": [
        "# Plotando o gráfico de melhor eficiencia combinado com a vazão mássica de etanol.\n",
        "from matplotlib.patches import Circle\n",
        "fig= sns.scatterplot(x=mass1,y=efi1,\n",
        "                      color='green',marker='o',legend='full',alpha=1)\n",
        "#fig.spines['top'].set_visible(False)\n",
        "plt.xlabel(r'Mass Flow $[\\frac{kg}{s}]$') # Nome do eixo abscissa (x).\n",
        "plt.ylabel(r'Eficiência [%]') # Nome do eixo ordenada (y).\n",
        "plt.gca().margins(0.03)\n",
        "\n",
        "cir1 = Circle((17.430000000000206,75.95739284808522),0.15,color='red',lw=1,fill=False,zorder=10)\n",
        "red_circle1 = Line2D([], [], marker='o', color='r',label='Circle',\n",
        "                        markerfacecolor='w',lw=0, markersize=7),\n",
        "\n",
        "plt.gca().add_patch(cir1)\n",
        "plt.legend([red_circle1],[r'Melhor Ponto'],loc='right')\n",
        "\n",
        "plt.savefig('2 - Etanol Out - Mass Flow EFIC.pdf', \n",
        "           transparent=True) # Salvando a figura em pdf."
      ]
    },
    {
      "cell_type": "code",
      "execution_count": null,
      "metadata": {
        "colab": {
          "background_save": true
        },
        "id": "6aL9PJdlqi2i",
        "outputId": "a992e170-964e-4811-de05-9271f4633b55"
      },
      "outputs": [
        {
          "data": {
            "text/html": [
              "\n",
              "  <div id=\"df-b1ccd378-5b3c-4cc4-9b63-bc320cb84da2\">\n",
              "    <div class=\"colab-df-container\">\n",
              "      <div>\n",
              "<style scoped>\n",
              "    .dataframe tbody tr th:only-of-type {\n",
              "        vertical-align: middle;\n",
              "    }\n",
              "\n",
              "    .dataframe tbody tr th {\n",
              "        vertical-align: top;\n",
              "    }\n",
              "\n",
              "    .dataframe thead th {\n",
              "        text-align: right;\n",
              "    }\n",
              "</style>\n",
              "<table border=\"1\" class=\"dataframe\">\n",
              "  <thead>\n",
              "    <tr style=\"text-align: right;\">\n",
              "      <th></th>\n",
              "      <th>1 - Cerveja In - Mass Flow</th>\n",
              "      <th>2 - Etanol In - Temperature</th>\n",
              "      <th>2 - Etanol In - Pressure</th>\n",
              "      <th>2º Trocador de placa - Heat Transfer Coefficient</th>\n",
              "      <th>2 - Etanol Out - Temperature</th>\n",
              "      <th>2 - Etanol Out - Mass Flow</th>\n",
              "      <th>2 - EficiênciaQuente</th>\n",
              "    </tr>\n",
              "  </thead>\n",
              "  <tbody>\n",
              "    <tr>\n",
              "      <th>5</th>\n",
              "      <td>8.838</td>\n",
              "      <td>-2.416</td>\n",
              "      <td>4.401</td>\n",
              "      <td>4378.0</td>\n",
              "      <td>0.7966</td>\n",
              "      <td>17.43</td>\n",
              "      <td>75.957393</td>\n",
              "    </tr>\n",
              "  </tbody>\n",
              "</table>\n",
              "</div>\n",
              "      <button class=\"colab-df-convert\" onclick=\"convertToInteractive('df-b1ccd378-5b3c-4cc4-9b63-bc320cb84da2')\"\n",
              "              title=\"Convert this dataframe to an interactive table.\"\n",
              "              style=\"display:none;\">\n",
              "        \n",
              "  <svg xmlns=\"http://www.w3.org/2000/svg\" height=\"24px\"viewBox=\"0 0 24 24\"\n",
              "       width=\"24px\">\n",
              "    <path d=\"M0 0h24v24H0V0z\" fill=\"none\"/>\n",
              "    <path d=\"M18.56 5.44l.94 2.06.94-2.06 2.06-.94-2.06-.94-.94-2.06-.94 2.06-2.06.94zm-11 1L8.5 8.5l.94-2.06 2.06-.94-2.06-.94L8.5 2.5l-.94 2.06-2.06.94zm10 10l.94 2.06.94-2.06 2.06-.94-2.06-.94-.94-2.06-.94 2.06-2.06.94z\"/><path d=\"M17.41 7.96l-1.37-1.37c-.4-.4-.92-.59-1.43-.59-.52 0-1.04.2-1.43.59L10.3 9.45l-7.72 7.72c-.78.78-.78 2.05 0 2.83L4 21.41c.39.39.9.59 1.41.59.51 0 1.02-.2 1.41-.59l7.78-7.78 2.81-2.81c.8-.78.8-2.07 0-2.86zM5.41 20L4 18.59l7.72-7.72 1.47 1.35L5.41 20z\"/>\n",
              "  </svg>\n",
              "      </button>\n",
              "      \n",
              "  <style>\n",
              "    .colab-df-container {\n",
              "      display:flex;\n",
              "      flex-wrap:wrap;\n",
              "      gap: 12px;\n",
              "    }\n",
              "\n",
              "    .colab-df-convert {\n",
              "      background-color: #E8F0FE;\n",
              "      border: none;\n",
              "      border-radius: 50%;\n",
              "      cursor: pointer;\n",
              "      display: none;\n",
              "      fill: #1967D2;\n",
              "      height: 32px;\n",
              "      padding: 0 0 0 0;\n",
              "      width: 32px;\n",
              "    }\n",
              "\n",
              "    .colab-df-convert:hover {\n",
              "      background-color: #E2EBFA;\n",
              "      box-shadow: 0px 1px 2px rgba(60, 64, 67, 0.3), 0px 1px 3px 1px rgba(60, 64, 67, 0.15);\n",
              "      fill: #174EA6;\n",
              "    }\n",
              "\n",
              "    [theme=dark] .colab-df-convert {\n",
              "      background-color: #3B4455;\n",
              "      fill: #D2E3FC;\n",
              "    }\n",
              "\n",
              "    [theme=dark] .colab-df-convert:hover {\n",
              "      background-color: #434B5C;\n",
              "      box-shadow: 0px 1px 3px 1px rgba(0, 0, 0, 0.15);\n",
              "      filter: drop-shadow(0px 1px 2px rgba(0, 0, 0, 0.3));\n",
              "      fill: #FFFFFF;\n",
              "    }\n",
              "  </style>\n",
              "\n",
              "      <script>\n",
              "        const buttonEl =\n",
              "          document.querySelector('#df-b1ccd378-5b3c-4cc4-9b63-bc320cb84da2 button.colab-df-convert');\n",
              "        buttonEl.style.display =\n",
              "          google.colab.kernel.accessAllowed ? 'block' : 'none';\n",
              "\n",
              "        async function convertToInteractive(key) {\n",
              "          const element = document.querySelector('#df-b1ccd378-5b3c-4cc4-9b63-bc320cb84da2');\n",
              "          const dataTable =\n",
              "            await google.colab.kernel.invokeFunction('convertToInteractive',\n",
              "                                                     [key], {});\n",
              "          if (!dataTable) return;\n",
              "\n",
              "          const docLinkHtml = 'Like what you see? Visit the ' +\n",
              "            '<a target=\"_blank\" href=https://colab.research.google.com/notebooks/data_table.ipynb>data table notebook</a>'\n",
              "            + ' to learn more about interactive tables.';\n",
              "          element.innerHTML = '';\n",
              "          dataTable['output_type'] = 'display_data';\n",
              "          await google.colab.output.renderOutput(dataTable, element);\n",
              "          const docLink = document.createElement('div');\n",
              "          docLink.innerHTML = docLinkHtml;\n",
              "          element.appendChild(docLink);\n",
              "        }\n",
              "      </script>\n",
              "    </div>\n",
              "  </div>\n",
              "  "
            ],
            "text/plain": [
              "   1 - Cerveja In - Mass Flow  2 - Etanol In - Temperature  \\\n",
              "5                       8.838                       -2.416   \n",
              "\n",
              "   2 - Etanol In - Pressure  2º Trocador de placa - Heat Transfer Coefficient  \\\n",
              "5                     4.401                                            4378.0   \n",
              "\n",
              "   2 - Etanol Out - Temperature  2 - Etanol Out - Mass Flow  \\\n",
              "5                        0.7966                       17.43   \n",
              "\n",
              "   2 - EficiênciaQuente  \n",
              "5             75.957393  "
            ]
          },
          "execution_count": 94,
          "metadata": {},
          "output_type": "execute_result"
        }
      ],
      "source": [
        "# Descrição das correntes no melhor ponto de eficiência, no segundo trocador de calor.\n",
        "dados_Ue7[['1 - Cerveja In - Mass Flow','2 - Etanol In - Temperature','2 - Etanol In - Pressure',\n",
        "           '2º Trocador de placa - Heat Transfer Coefficient','2 - Etanol Out - Temperature',\n",
        "           '2 - Etanol Out - Mass Flow','2 - EficiênciaQuente']].loc[5:5]"
      ]
    }
  ],
  "metadata": {
    "colab": {
      "provenance": [],
      "authorship_tag": "ABX9TyOFhlu2UEfbh4LqSrt2xUVK",
      "include_colab_link": true
    },
    "kernelspec": {
      "display_name": "Python 3",
      "name": "python3"
    },
    "language_info": {
      "name": "python"
    }
  },
  "nbformat": 4,
  "nbformat_minor": 0
}